{
  "nbformat": 4,
  "nbformat_minor": 0,
  "metadata": {
    "kernelspec": {
      "display_name": "Python 3 (ipykernel)",
      "language": "python",
      "name": "python3"
    },
    "language_info": {
      "codemirror_mode": {
        "name": "ipython",
        "version": 3
      },
      "file_extension": ".py",
      "mimetype": "text/x-python",
      "name": "python",
      "nbconvert_exporter": "python",
      "pygments_lexer": "ipython3",
      "version": "3.9.6"
    },
    "colab": {
      "name": "afl_data_processing_mod.ipynb",
      "provenance": [],
      "include_colab_link": true
    }
  },
  "cells": [
    {
      "cell_type": "markdown",
      "metadata": {
        "id": "view-in-github",
        "colab_type": "text"
      },
      "source": [
        "<a href=\"https://colab.research.google.com/github/stevegabriel1/adventures_in_time_series/blob/master/afl_data_processing_mod.ipynb\" target=\"_parent\"><img src=\"https://colab.research.google.com/assets/colab-badge.svg\" alt=\"Open In Colab\"/></a>"
      ]
    },
    {
      "cell_type": "markdown",
      "metadata": {
        "id": "cFlcRhrrsuFb"
      },
      "source": [
        "Required initial steps:\n",
        "    \n",
        "    1. The text file from https://afltables.com/afl/stats/biglists/bg3.txt is saved as llist.txt within the data_projects/sports_data folder.\n",
        "    \n",
        "    2. The file is then processed through the bash script file a_updater.sh to convert it to a csv: Type the following in Terminal:  ./a_updater.sh [from the data_projects/sports_data directory]\n",
        "    \n",
        "    3. Copy to afl_dataexploration subfolder. The bash file saves the processed file as newlist.csv, ready to be imported from within Jupyter as below."
      ]
    },
    {
      "cell_type": "code",
      "metadata": {
        "id": "xEaG4-oSsuFf",
        "outputId": "ba4a3dbd-665d-419b-d21a-1e867b37854a"
      },
      "source": [
        "import urllib.request    \n",
        "urllib.request.urlretrieve(\"https://afltables.com/afl/stats/biglists/bg3.txt\", \"llist.txt\")"
      ],
      "execution_count": null,
      "outputs": [
        {
          "data": {
            "text/plain": [
              "('llist.txt', <http.client.HTTPMessage at 0x105f06af0>)"
            ]
          },
          "execution_count": 1,
          "metadata": {},
          "output_type": "execute_result"
        }
      ]
    },
    {
      "cell_type": "markdown",
      "metadata": {
        "id": "pTXgu-dasuFi"
      },
      "source": [
        "### **Now, run a_updater.sh from the command line as above**"
      ]
    },
    {
      "cell_type": "code",
      "metadata": {
        "id": "sUmR6hj0suFi"
      },
      "source": [
        "import os"
      ],
      "execution_count": null,
      "outputs": []
    },
    {
      "cell_type": "code",
      "metadata": {
        "id": "_NplvH3esuFj",
        "outputId": "7e0afae1-caf1-4c0a-fdf3-4a919b953fc4"
      },
      "source": [
        "os.getcwd()"
      ],
      "execution_count": null,
      "outputs": [
        {
          "data": {
            "text/plain": [
              "'/Users/steve_gabriel/Documents/data_projects/sports_etc/afl_allgames/afl_explore'"
            ]
          },
          "execution_count": 3,
          "metadata": {},
          "output_type": "execute_result"
        }
      ]
    },
    {
      "cell_type": "code",
      "metadata": {
        "id": "aDYQmnU2suFj"
      },
      "source": [
        "import pandas as pd\n",
        "cols = ['seq','date','round','team1','gls_1','bhs_1','pts_1','team2','gls_2','bhs_2','pts_2','venue']"
      ],
      "execution_count": null,
      "outputs": []
    },
    {
      "cell_type": "code",
      "metadata": {
        "id": "aJBWisbRsuFk"
      },
      "source": [
        "upd_round = pd.read_csv(\"newlist.csv\", names = cols)\n",
        "trans = upd_round"
      ],
      "execution_count": null,
      "outputs": []
    },
    {
      "cell_type": "code",
      "metadata": {
        "id": "F1o0V0EFsuFl",
        "outputId": "a91a1f7a-8f18-466b-b643-a8c47346b8e3"
      },
      "source": [
        "# Modify index to start at 1 \n",
        "trans.index += 1\n",
        "trans.tail(9)"
      ],
      "execution_count": null,
      "outputs": [
        {
          "data": {
            "text/html": [
              "<div>\n",
              "<style scoped>\n",
              "    .dataframe tbody tr th:only-of-type {\n",
              "        vertical-align: middle;\n",
              "    }\n",
              "\n",
              "    .dataframe tbody tr th {\n",
              "        vertical-align: top;\n",
              "    }\n",
              "\n",
              "    .dataframe thead th {\n",
              "        text-align: right;\n",
              "    }\n",
              "</style>\n",
              "<table border=\"1\" class=\"dataframe\">\n",
              "  <thead>\n",
              "    <tr style=\"text-align: right;\">\n",
              "      <th></th>\n",
              "      <th>seq</th>\n",
              "      <th>date</th>\n",
              "      <th>round</th>\n",
              "      <th>team1</th>\n",
              "      <th>gls_1</th>\n",
              "      <th>bhs_1</th>\n",
              "      <th>pts_1</th>\n",
              "      <th>team2</th>\n",
              "      <th>gls_2</th>\n",
              "      <th>bhs_2</th>\n",
              "      <th>pts_2</th>\n",
              "      <th>venue</th>\n",
              "    </tr>\n",
              "  </thead>\n",
              "  <tbody>\n",
              "    <tr>\n",
              "      <th>15966</th>\n",
              "      <td>15966</td>\n",
              "      <td>20-Aug-2021</td>\n",
              "      <td>R23</td>\n",
              "      <td>Western Bulldogs</td>\n",
              "      <td>10</td>\n",
              "      <td>4</td>\n",
              "      <td>64</td>\n",
              "      <td>Port Adelaide</td>\n",
              "      <td>9</td>\n",
              "      <td>12</td>\n",
              "      <td>66</td>\n",
              "      <td>Docklands</td>\n",
              "    </tr>\n",
              "    <tr>\n",
              "      <th>15967</th>\n",
              "      <td>15967</td>\n",
              "      <td>21-Aug-2021</td>\n",
              "      <td>R23</td>\n",
              "      <td>Richmond</td>\n",
              "      <td>12</td>\n",
              "      <td>11</td>\n",
              "      <td>83</td>\n",
              "      <td>Hawthorn</td>\n",
              "      <td>12</td>\n",
              "      <td>11</td>\n",
              "      <td>83</td>\n",
              "      <td>M.C.G.</td>\n",
              "    </tr>\n",
              "    <tr>\n",
              "      <th>15968</th>\n",
              "      <td>15968</td>\n",
              "      <td>21-Aug-2021</td>\n",
              "      <td>R23</td>\n",
              "      <td>Sydney</td>\n",
              "      <td>21</td>\n",
              "      <td>10</td>\n",
              "      <td>136</td>\n",
              "      <td>Gold Coast</td>\n",
              "      <td>6</td>\n",
              "      <td>13</td>\n",
              "      <td>49</td>\n",
              "      <td>Docklands</td>\n",
              "    </tr>\n",
              "    <tr>\n",
              "      <th>15969</th>\n",
              "      <td>15969</td>\n",
              "      <td>21-Aug-2021</td>\n",
              "      <td>R23</td>\n",
              "      <td>Brisbane Lions</td>\n",
              "      <td>19</td>\n",
              "      <td>11</td>\n",
              "      <td>125</td>\n",
              "      <td>West Coast</td>\n",
              "      <td>13</td>\n",
              "      <td>9</td>\n",
              "      <td>87</td>\n",
              "      <td>Gabba</td>\n",
              "    </tr>\n",
              "    <tr>\n",
              "      <th>15970</th>\n",
              "      <td>15970</td>\n",
              "      <td>21-Aug-2021</td>\n",
              "      <td>R23</td>\n",
              "      <td>Geelong</td>\n",
              "      <td>12</td>\n",
              "      <td>5</td>\n",
              "      <td>77</td>\n",
              "      <td>Melbourne</td>\n",
              "      <td>12</td>\n",
              "      <td>9</td>\n",
              "      <td>81</td>\n",
              "      <td>Kardinia Park</td>\n",
              "    </tr>\n",
              "    <tr>\n",
              "      <th>15971</th>\n",
              "      <td>15971</td>\n",
              "      <td>21-Aug-2021</td>\n",
              "      <td>R23</td>\n",
              "      <td>Carlton</td>\n",
              "      <td>11</td>\n",
              "      <td>9</td>\n",
              "      <td>75</td>\n",
              "      <td>GW Sydney</td>\n",
              "      <td>12</td>\n",
              "      <td>17</td>\n",
              "      <td>89</td>\n",
              "      <td>Docklands</td>\n",
              "    </tr>\n",
              "    <tr>\n",
              "      <th>15972</th>\n",
              "      <td>15972</td>\n",
              "      <td>22-Aug-2021</td>\n",
              "      <td>R23</td>\n",
              "      <td>St Kilda</td>\n",
              "      <td>17</td>\n",
              "      <td>5</td>\n",
              "      <td>107</td>\n",
              "      <td>Fremantle</td>\n",
              "      <td>6</td>\n",
              "      <td>13</td>\n",
              "      <td>49</td>\n",
              "      <td>Bellerive Oval</td>\n",
              "    </tr>\n",
              "    <tr>\n",
              "      <th>15973</th>\n",
              "      <td>15973</td>\n",
              "      <td>22-Aug-2021</td>\n",
              "      <td>R23</td>\n",
              "      <td>Essendon</td>\n",
              "      <td>16</td>\n",
              "      <td>6</td>\n",
              "      <td>102</td>\n",
              "      <td>Collingwood</td>\n",
              "      <td>9</td>\n",
              "      <td>10</td>\n",
              "      <td>64</td>\n",
              "      <td>M.C.G.</td>\n",
              "    </tr>\n",
              "    <tr>\n",
              "      <th>15974</th>\n",
              "      <td>15974</td>\n",
              "      <td>22-Aug-2021</td>\n",
              "      <td>R23</td>\n",
              "      <td>Adelaide</td>\n",
              "      <td>13</td>\n",
              "      <td>20</td>\n",
              "      <td>98</td>\n",
              "      <td>North Melbourne</td>\n",
              "      <td>8</td>\n",
              "      <td>6</td>\n",
              "      <td>54</td>\n",
              "      <td>Adelaide Oval</td>\n",
              "    </tr>\n",
              "  </tbody>\n",
              "</table>\n",
              "</div>"
            ],
            "text/plain": [
              "         seq         date round             team1  gls_1  bhs_1  pts_1  \\\n",
              "15966  15966  20-Aug-2021   R23  Western Bulldogs     10      4     64   \n",
              "15967  15967  21-Aug-2021   R23          Richmond     12     11     83   \n",
              "15968  15968  21-Aug-2021   R23            Sydney     21     10    136   \n",
              "15969  15969  21-Aug-2021   R23    Brisbane Lions     19     11    125   \n",
              "15970  15970  21-Aug-2021   R23           Geelong     12      5     77   \n",
              "15971  15971  21-Aug-2021   R23           Carlton     11      9     75   \n",
              "15972  15972  22-Aug-2021   R23          St Kilda     17      5    107   \n",
              "15973  15973  22-Aug-2021   R23          Essendon     16      6    102   \n",
              "15974  15974  22-Aug-2021   R23          Adelaide     13     20     98   \n",
              "\n",
              "                 team2  gls_2  bhs_2  pts_2           venue  \n",
              "15966    Port Adelaide      9     12     66       Docklands  \n",
              "15967         Hawthorn     12     11     83          M.C.G.  \n",
              "15968       Gold Coast      6     13     49       Docklands  \n",
              "15969       West Coast     13      9     87           Gabba  \n",
              "15970        Melbourne     12      9     81   Kardinia Park  \n",
              "15971        GW Sydney     12     17     89       Docklands  \n",
              "15972        Fremantle      6     13     49  Bellerive Oval  \n",
              "15973      Collingwood      9     10     64          M.C.G.  \n",
              "15974  North Melbourne      8      6     54   Adelaide Oval  "
            ]
          },
          "execution_count": 6,
          "metadata": {},
          "output_type": "execute_result"
        }
      ]
    },
    {
      "cell_type": "code",
      "metadata": {
        "id": "_YyM2aP9suFm"
      },
      "source": [
        "# Add states\n",
        "nsw = ['S.C.G.','Sydney Showground','Stadium Australia','Blacktown','Albury']\n",
        "qld = ['Gabba','Carrara','Cazaly\\'s Stadium','Brisbane Exhibition','Riverway Stadium']\n",
        "sa = ['Football Park','Adelaide Oval']\n",
        "wa = ['W.A.C.A.','Perth Stadium','Subiaco']\n",
        "nt = ['Marrara Oval','Traeger Park']\n",
        "tas = ['York Park','Bellerive Oval','North Hobart']\n",
        "act = ['Manuka Oval','Bruce Stadium']\n",
        "intl = ['Wellington','Jiangwan Stadium']"
      ],
      "execution_count": null,
      "outputs": []
    },
    {
      "cell_type": "code",
      "metadata": {
        "id": "YQBSsKmmsuFn"
      },
      "source": [
        "def locations(x):\n",
        "    if x in nsw:\n",
        "        return \"NSW\"\n",
        "    elif x in sa:\n",
        "        return \"SA\"\n",
        "    elif x in wa:\n",
        "        return \"WA\"\n",
        "    elif x in nt:\n",
        "        return \"NT\"\n",
        "    elif x in tas:\n",
        "        return \"TAS\"\n",
        "    elif x in intl:\n",
        "        return \"INTL\"\n",
        "    elif x in act:\n",
        "        return \"ACT\"\n",
        "    elif x in qld:\n",
        "        return \"QLD\"\n",
        "    else: \n",
        "        return \"VIC\""
      ],
      "execution_count": null,
      "outputs": []
    },
    {
      "cell_type": "code",
      "metadata": {
        "id": "8s3hBwB_suFn",
        "outputId": "99a27f4d-fccd-4bb1-b7b1-885b73907e14"
      },
      "source": [
        "trans[\"state\"] = trans[\"venue\"].apply(locations)\n",
        "trans[\"state\"].value_counts()"
      ],
      "execution_count": null,
      "outputs": [
        {
          "data": {
            "text/plain": [
              "VIC     13266\n",
              "WA        704\n",
              "SA        637\n",
              "QLD       605\n",
              "NSW       563\n",
              "TAS       111\n",
              "ACT        53\n",
              "NT         29\n",
              "INTL        6\n",
              "Name: state, dtype: int64"
            ]
          },
          "execution_count": 9,
          "metadata": {},
          "output_type": "execute_result"
        }
      ]
    },
    {
      "cell_type": "markdown",
      "metadata": {
        "id": "nR-qz9vOsuFo"
      },
      "source": [
        "### Check that the most recent round is included:"
      ]
    },
    {
      "cell_type": "code",
      "metadata": {
        "id": "ukyDoIh-suFo",
        "outputId": "074cf7b6-3305-4f83-c03c-cb19c15fbb57"
      },
      "source": [
        "trans.tail(9)"
      ],
      "execution_count": null,
      "outputs": [
        {
          "data": {
            "text/html": [
              "<div>\n",
              "<style scoped>\n",
              "    .dataframe tbody tr th:only-of-type {\n",
              "        vertical-align: middle;\n",
              "    }\n",
              "\n",
              "    .dataframe tbody tr th {\n",
              "        vertical-align: top;\n",
              "    }\n",
              "\n",
              "    .dataframe thead th {\n",
              "        text-align: right;\n",
              "    }\n",
              "</style>\n",
              "<table border=\"1\" class=\"dataframe\">\n",
              "  <thead>\n",
              "    <tr style=\"text-align: right;\">\n",
              "      <th></th>\n",
              "      <th>seq</th>\n",
              "      <th>date</th>\n",
              "      <th>round</th>\n",
              "      <th>team1</th>\n",
              "      <th>gls_1</th>\n",
              "      <th>bhs_1</th>\n",
              "      <th>pts_1</th>\n",
              "      <th>team2</th>\n",
              "      <th>gls_2</th>\n",
              "      <th>bhs_2</th>\n",
              "      <th>pts_2</th>\n",
              "      <th>venue</th>\n",
              "      <th>state</th>\n",
              "    </tr>\n",
              "  </thead>\n",
              "  <tbody>\n",
              "    <tr>\n",
              "      <th>15966</th>\n",
              "      <td>15966</td>\n",
              "      <td>20-Aug-2021</td>\n",
              "      <td>R23</td>\n",
              "      <td>Western Bulldogs</td>\n",
              "      <td>10</td>\n",
              "      <td>4</td>\n",
              "      <td>64</td>\n",
              "      <td>Port Adelaide</td>\n",
              "      <td>9</td>\n",
              "      <td>12</td>\n",
              "      <td>66</td>\n",
              "      <td>Docklands</td>\n",
              "      <td>VIC</td>\n",
              "    </tr>\n",
              "    <tr>\n",
              "      <th>15967</th>\n",
              "      <td>15967</td>\n",
              "      <td>21-Aug-2021</td>\n",
              "      <td>R23</td>\n",
              "      <td>Richmond</td>\n",
              "      <td>12</td>\n",
              "      <td>11</td>\n",
              "      <td>83</td>\n",
              "      <td>Hawthorn</td>\n",
              "      <td>12</td>\n",
              "      <td>11</td>\n",
              "      <td>83</td>\n",
              "      <td>M.C.G.</td>\n",
              "      <td>VIC</td>\n",
              "    </tr>\n",
              "    <tr>\n",
              "      <th>15968</th>\n",
              "      <td>15968</td>\n",
              "      <td>21-Aug-2021</td>\n",
              "      <td>R23</td>\n",
              "      <td>Sydney</td>\n",
              "      <td>21</td>\n",
              "      <td>10</td>\n",
              "      <td>136</td>\n",
              "      <td>Gold Coast</td>\n",
              "      <td>6</td>\n",
              "      <td>13</td>\n",
              "      <td>49</td>\n",
              "      <td>Docklands</td>\n",
              "      <td>VIC</td>\n",
              "    </tr>\n",
              "    <tr>\n",
              "      <th>15969</th>\n",
              "      <td>15969</td>\n",
              "      <td>21-Aug-2021</td>\n",
              "      <td>R23</td>\n",
              "      <td>Brisbane Lions</td>\n",
              "      <td>19</td>\n",
              "      <td>11</td>\n",
              "      <td>125</td>\n",
              "      <td>West Coast</td>\n",
              "      <td>13</td>\n",
              "      <td>9</td>\n",
              "      <td>87</td>\n",
              "      <td>Gabba</td>\n",
              "      <td>QLD</td>\n",
              "    </tr>\n",
              "    <tr>\n",
              "      <th>15970</th>\n",
              "      <td>15970</td>\n",
              "      <td>21-Aug-2021</td>\n",
              "      <td>R23</td>\n",
              "      <td>Geelong</td>\n",
              "      <td>12</td>\n",
              "      <td>5</td>\n",
              "      <td>77</td>\n",
              "      <td>Melbourne</td>\n",
              "      <td>12</td>\n",
              "      <td>9</td>\n",
              "      <td>81</td>\n",
              "      <td>Kardinia Park</td>\n",
              "      <td>VIC</td>\n",
              "    </tr>\n",
              "    <tr>\n",
              "      <th>15971</th>\n",
              "      <td>15971</td>\n",
              "      <td>21-Aug-2021</td>\n",
              "      <td>R23</td>\n",
              "      <td>Carlton</td>\n",
              "      <td>11</td>\n",
              "      <td>9</td>\n",
              "      <td>75</td>\n",
              "      <td>GW Sydney</td>\n",
              "      <td>12</td>\n",
              "      <td>17</td>\n",
              "      <td>89</td>\n",
              "      <td>Docklands</td>\n",
              "      <td>VIC</td>\n",
              "    </tr>\n",
              "    <tr>\n",
              "      <th>15972</th>\n",
              "      <td>15972</td>\n",
              "      <td>22-Aug-2021</td>\n",
              "      <td>R23</td>\n",
              "      <td>St Kilda</td>\n",
              "      <td>17</td>\n",
              "      <td>5</td>\n",
              "      <td>107</td>\n",
              "      <td>Fremantle</td>\n",
              "      <td>6</td>\n",
              "      <td>13</td>\n",
              "      <td>49</td>\n",
              "      <td>Bellerive Oval</td>\n",
              "      <td>TAS</td>\n",
              "    </tr>\n",
              "    <tr>\n",
              "      <th>15973</th>\n",
              "      <td>15973</td>\n",
              "      <td>22-Aug-2021</td>\n",
              "      <td>R23</td>\n",
              "      <td>Essendon</td>\n",
              "      <td>16</td>\n",
              "      <td>6</td>\n",
              "      <td>102</td>\n",
              "      <td>Collingwood</td>\n",
              "      <td>9</td>\n",
              "      <td>10</td>\n",
              "      <td>64</td>\n",
              "      <td>M.C.G.</td>\n",
              "      <td>VIC</td>\n",
              "    </tr>\n",
              "    <tr>\n",
              "      <th>15974</th>\n",
              "      <td>15974</td>\n",
              "      <td>22-Aug-2021</td>\n",
              "      <td>R23</td>\n",
              "      <td>Adelaide</td>\n",
              "      <td>13</td>\n",
              "      <td>20</td>\n",
              "      <td>98</td>\n",
              "      <td>North Melbourne</td>\n",
              "      <td>8</td>\n",
              "      <td>6</td>\n",
              "      <td>54</td>\n",
              "      <td>Adelaide Oval</td>\n",
              "      <td>SA</td>\n",
              "    </tr>\n",
              "  </tbody>\n",
              "</table>\n",
              "</div>"
            ],
            "text/plain": [
              "         seq         date round             team1  gls_1  bhs_1  pts_1  \\\n",
              "15966  15966  20-Aug-2021   R23  Western Bulldogs     10      4     64   \n",
              "15967  15967  21-Aug-2021   R23          Richmond     12     11     83   \n",
              "15968  15968  21-Aug-2021   R23            Sydney     21     10    136   \n",
              "15969  15969  21-Aug-2021   R23    Brisbane Lions     19     11    125   \n",
              "15970  15970  21-Aug-2021   R23           Geelong     12      5     77   \n",
              "15971  15971  21-Aug-2021   R23           Carlton     11      9     75   \n",
              "15972  15972  22-Aug-2021   R23          St Kilda     17      5    107   \n",
              "15973  15973  22-Aug-2021   R23          Essendon     16      6    102   \n",
              "15974  15974  22-Aug-2021   R23          Adelaide     13     20     98   \n",
              "\n",
              "                 team2  gls_2  bhs_2  pts_2           venue state  \n",
              "15966    Port Adelaide      9     12     66       Docklands   VIC  \n",
              "15967         Hawthorn     12     11     83          M.C.G.   VIC  \n",
              "15968       Gold Coast      6     13     49       Docklands   VIC  \n",
              "15969       West Coast     13      9     87           Gabba   QLD  \n",
              "15970        Melbourne     12      9     81   Kardinia Park   VIC  \n",
              "15971        GW Sydney     12     17     89       Docklands   VIC  \n",
              "15972        Fremantle      6     13     49  Bellerive Oval   TAS  \n",
              "15973      Collingwood      9     10     64          M.C.G.   VIC  \n",
              "15974  North Melbourne      8      6     54   Adelaide Oval    SA  "
            ]
          },
          "execution_count": 10,
          "metadata": {},
          "output_type": "execute_result"
        }
      ]
    },
    {
      "cell_type": "markdown",
      "metadata": {
        "id": "vbOXPq99suFp"
      },
      "source": [
        "## 1. HVAR & AGGR"
      ]
    },
    {
      "cell_type": "code",
      "metadata": {
        "id": "Mm0MEn_nsuFp"
      },
      "source": [
        "trans['hvar'] = trans['pts_1'] - trans['pts_2']\n",
        "trans['aggr'] = trans['pts_1'] + trans['pts_2'] "
      ],
      "execution_count": null,
      "outputs": []
    },
    {
      "cell_type": "markdown",
      "metadata": {
        "id": "KgsTnb9qsuFp"
      },
      "source": [
        "## 2. YEAR & MONTH"
      ]
    },
    {
      "cell_type": "code",
      "metadata": {
        "id": "_-Lnz9Z0suFp"
      },
      "source": [
        "import time\n",
        "import datetime"
      ],
      "execution_count": null,
      "outputs": []
    },
    {
      "cell_type": "code",
      "metadata": {
        "id": "WWopgOkysuFq"
      },
      "source": [
        "trans['date'] = pd.to_datetime(trans['date'])\n",
        "trans['year'], trans['month'] = trans['date'].dt.year, trans['date'].dt.month"
      ],
      "execution_count": null,
      "outputs": []
    },
    {
      "cell_type": "markdown",
      "metadata": {
        "id": "BU9cINMysuFq"
      },
      "source": [
        "## 3. ABBREVIATED CLUB NAMES"
      ]
    },
    {
      "cell_type": "code",
      "metadata": {
        "id": "LxcuVsNmsuFq"
      },
      "source": [
        "adelaide = ['Adelaide']\n",
        "brisbane = ['Brisbane Bears','Brisbane Lions']\n",
        "carlton = ['Carlton']\n",
        "collingwood = ['Collingwood']\n",
        "essendon = ['Essendon']\n",
        "fitzroy = ['Fitzroy']\n",
        "footscray = ['Footscray']\n",
        "fremantle = ['Fremantle']\n",
        "geelong = ['Geelong']\n",
        "gold_coast = ['Gold Coast']\n",
        "gws = ['GW Sydney']\n",
        "hawthorn = ['Hawthorn']\n",
        "melbourne = ['Melbourne']\n",
        "north_melbourne = ['North Melbourne','Kangaroos']\n",
        "port_adelaide = ['Port Adelaide']\n",
        "richmond = ['Richmond']\n",
        "south_melbourne = ['South Melbourne']\n",
        "st_kilda = ['St Kilda']\n",
        "sydney = ['Sydney']\n",
        "west_coast = ['West Coast']\n",
        "western_bulldogs = ['Western Bulldogs', 'Footscray']\n",
        "university = ['University']"
      ],
      "execution_count": null,
      "outputs": []
    },
    {
      "cell_type": "code",
      "metadata": {
        "id": "JqChNkhysuFr"
      },
      "source": [
        "def team_shorten(x):\n",
        "    if x in adelaide:\n",
        "        return \"AD\"\n",
        "    elif x in brisbane:\n",
        "        return \"BR\"\n",
        "    elif x in carlton:\n",
        "        return \"CA\"\n",
        "    elif x in collingwood:\n",
        "        return \"CO\"\n",
        "    elif x in essendon:\n",
        "        return \"ES\"\n",
        "    elif x in fitzroy:\n",
        "        return \"FI\"\n",
        "    elif x in fremantle:\n",
        "        return \"FR\"\n",
        "    elif x in geelong:\n",
        "        return \"GE\"\n",
        "    elif x in gold_coast:\n",
        "        return \"GC\"\n",
        "    elif x in gws:\n",
        "        return \"GW\"\n",
        "    elif x in hawthorn:\n",
        "        return \"HA\"\n",
        "    elif x in melbourne:\n",
        "        return \"ME\"\n",
        "    elif x in north_melbourne:\n",
        "        return \"NM\"\n",
        "    elif x in port_adelaide:\n",
        "        return \"PA\"\n",
        "    elif x in richmond:\n",
        "        return \"RI\"\n",
        "    elif x in south_melbourne:\n",
        "        return \"SM\"\n",
        "    elif x in st_kilda:\n",
        "        return \"SK\"\n",
        "    elif x in sydney:\n",
        "        return \"SY\"\n",
        "    elif x in west_coast:\n",
        "        return \"WC\"\n",
        "    elif x in western_bulldogs:\n",
        "        return \"WB\"\n",
        "    elif x in university:\n",
        "        return \"UN\"\n",
        "    else: \n",
        "        return \"NOT_FOUND\""
      ],
      "execution_count": null,
      "outputs": []
    },
    {
      "cell_type": "code",
      "metadata": {
        "id": "C4L8ku6nsuFr"
      },
      "source": [
        "trans[\"t1\"] = trans[\"team1\"].apply(team_shorten)\n",
        "trans[\"t2\"] = trans[\"team2\"].apply(team_shorten)"
      ],
      "execution_count": null,
      "outputs": []
    },
    {
      "cell_type": "code",
      "metadata": {
        "id": "IJpjRJKVsuFr",
        "outputId": "9cc0b57f-70ee-4c96-ac24-73f4e87139c2"
      },
      "source": [
        "trans['t1'].value_counts().sum()"
      ],
      "execution_count": null,
      "outputs": [
        {
          "data": {
            "text/plain": [
              "15974"
            ]
          },
          "execution_count": 17,
          "metadata": {},
          "output_type": "execute_result"
        }
      ]
    },
    {
      "cell_type": "markdown",
      "metadata": {
        "id": "GsM7JSZZsuFs"
      },
      "source": [
        "# 4. FIX TEAM NAMES ANOMOLIES"
      ]
    },
    {
      "cell_type": "markdown",
      "metadata": {
        "id": "8hUYzrr_suFs"
      },
      "source": [
        "* Merge Footscray & Western Bulldogs as **Western Bulldogs**\n",
        "* Merge North Melbourne with Kangaroos as **North Melbourne**\n",
        "* Merge Brisbane Lions with Brisbane Bears as **Brisbane**\n",
        "* Leave Sydney and **South Melbourne** as separate\n",
        "* Leave **Fitzroy** as separate\n",
        "* Modify GW Sydney to **GWS Giants**"
      ]
    },
    {
      "cell_type": "code",
      "metadata": {
        "id": "M0oYovQEsuFs"
      },
      "source": [
        "# Function from Analytics Vidhya\n",
        "def coding(col, codeDict):\n",
        "  colCoded = pd.Series(col, copy=True)\n",
        "  for key, value in codeDict.items():\n",
        "    colCoded.replace(key, value, inplace=True)\n",
        "  return colCoded"
      ],
      "execution_count": null,
      "outputs": []
    },
    {
      "cell_type": "code",
      "metadata": {
        "id": "XqUJ_E69suFs"
      },
      "source": [
        "trans[\"team1\"] = coding(trans[\"team1\"], {'Footscray':'Western Bulldogs'})\n",
        "trans[\"team2\"] = coding(trans[\"team2\"], {'Footscray':'Western Bulldogs'})\n",
        "trans[\"team1\"] = coding(trans[\"team1\"], {'Kangaroos':'North Melbourne'})\n",
        "trans[\"team2\"] = coding(trans[\"team2\"], {'Kangaroos':'North Melbourne'})\n",
        "trans[\"team1\"] = coding(trans[\"team1\"], {'Brisbane Bears':'Brisbane','Brisbane Lions':'Brisbane'})\n",
        "trans[\"team2\"] = coding(trans[\"team2\"], {'Brisbane Bears':'Brisbane','Brisbane Lions':'Brisbane'})\n",
        "trans[\"team1\"] = coding(trans[\"team1\"], {'GW Sydney':'GWS Giants'})\n",
        "trans[\"team2\"] = coding(trans[\"team2\"], {'GW Sydney':'GWS Giants'})"
      ],
      "execution_count": null,
      "outputs": []
    },
    {
      "cell_type": "code",
      "metadata": {
        "id": "hpdTGR7hsuFt",
        "outputId": "075c513f-1b72-43a3-ce5d-c5b3a1ae3a55"
      },
      "source": [
        "trans[\"team2\"].value_counts()"
      ],
      "execution_count": null,
      "outputs": [
        {
          "data": {
            "text/plain": [
              "Collingwood         1300\n",
              "Carlton             1271\n",
              "Essendon            1254\n",
              "Geelong             1236\n",
              "Melbourne           1234\n",
              "St Kilda            1225\n",
              "Richmond            1164\n",
              "North Melbourne     1017\n",
              "Hawthorn            1016\n",
              "Western Bulldogs    1008\n",
              "Fitzroy              971\n",
              "South Melbourne      783\n",
              "Sydney               460\n",
              "West Coast           405\n",
              "Brisbane             392\n",
              "Adelaide             358\n",
              "Fremantle            301\n",
              "Port Adelaide        283\n",
              "Gold Coast           117\n",
              "GWS Giants           116\n",
              "University            63\n",
              "Name: team2, dtype: int64"
            ]
          },
          "execution_count": 20,
          "metadata": {},
          "output_type": "execute_result"
        }
      ]
    },
    {
      "cell_type": "code",
      "metadata": {
        "id": "HRfu66ZzsuFt",
        "outputId": "ebbdcf09-79fd-49d5-f5ff-0ba2e21fb591"
      },
      "source": [
        "trans[\"venue\"].value_counts().tail(15)"
      ],
      "execution_count": null,
      "outputs": [
        {
          "data": {
            "text/plain": [
              "Coburg Oval            9\n",
              "Eureka Stadium         8\n",
              "Yarraville Oval        7\n",
              "Traeger Park           7\n",
              "North Hobart           5\n",
              "Wellington             3\n",
              "Jiangwan Stadium       3\n",
              "Olympic Park           3\n",
              "Bruce Stadium          1\n",
              "Brisbane Exhibition    1\n",
              "Albury                 1\n",
              "Yallourn               1\n",
              "Euroa                  1\n",
              "Blacktown              1\n",
              "Riverway Stadium       1\n",
              "Name: venue, dtype: int64"
            ]
          },
          "execution_count": 21,
          "metadata": {},
          "output_type": "execute_result"
        }
      ]
    },
    {
      "cell_type": "markdown",
      "metadata": {
        "id": "tlSWBabesuFt"
      },
      "source": [
        "# 5. ALL DRAWS (BOOLEAN)"
      ]
    },
    {
      "cell_type": "code",
      "metadata": {
        "id": "fw-IWGrDsuFt"
      },
      "source": [
        "def reg_draw(hvar):\n",
        "    if hvar == 0:\n",
        "        return 1\n",
        "    else: return 0"
      ],
      "execution_count": null,
      "outputs": []
    },
    {
      "cell_type": "code",
      "metadata": {
        "id": "yuISyTF-suFu"
      },
      "source": [
        "trans[\"draw_rt\"] = trans[\"hvar\"].apply(reg_draw)"
      ],
      "execution_count": null,
      "outputs": []
    },
    {
      "cell_type": "code",
      "metadata": {
        "id": "rC_NkPcZsuFu",
        "outputId": "e0ff9f7d-19d5-4bf6-e2d4-d26c0f064d6c"
      },
      "source": [
        "trans['draw_rt'].value_counts()"
      ],
      "execution_count": null,
      "outputs": [
        {
          "data": {
            "text/plain": [
              "0    15811\n",
              "1      163\n",
              "Name: draw_rt, dtype: int64"
            ]
          },
          "execution_count": 24,
          "metadata": {},
          "output_type": "execute_result"
        }
      ]
    },
    {
      "cell_type": "markdown",
      "metadata": {
        "id": "kWBK2muIsuFu"
      },
      "source": [
        "### The ET draws"
      ]
    },
    {
      "cell_type": "code",
      "metadata": {
        "id": "NBrE0xpvsuFv"
      },
      "source": [
        "def et_draw(seq):\n",
        "    if seq == 10794:\n",
        "        return 1\n",
        "    elif seq == 13203:\n",
        "        return 1\n",
        "    else: return 0"
      ],
      "execution_count": null,
      "outputs": []
    },
    {
      "cell_type": "code",
      "metadata": {
        "id": "Y04YypcJsuFv",
        "outputId": "b60adee8-524c-42a8-d001-ec02a30a29f4"
      },
      "source": [
        "trans[\"etime_draw\"] = trans[\"seq\"].apply(et_draw)\n",
        "trans['etime_draw'].value_counts()"
      ],
      "execution_count": null,
      "outputs": [
        {
          "data": {
            "text/plain": [
              "0    15972\n",
              "1        2\n",
              "Name: etime_draw, dtype: int64"
            ]
          },
          "execution_count": 26,
          "metadata": {},
          "output_type": "execute_result"
        }
      ]
    },
    {
      "cell_type": "code",
      "metadata": {
        "id": "iESGelEZsuFv",
        "outputId": "a3bca7ff-0e70-4fd9-aefa-134c91dca76a"
      },
      "source": [
        "### Add the two columns\n",
        "trans['draws_all']  = trans['draw_rt'] + trans['etime_draw']\n",
        "trans['draws_all'].value_counts()"
      ],
      "execution_count": null,
      "outputs": [
        {
          "data": {
            "text/plain": [
              "0    15809\n",
              "1      165\n",
              "Name: draws_all, dtype: int64"
            ]
          },
          "execution_count": 27,
          "metadata": {},
          "output_type": "execute_result"
        }
      ]
    },
    {
      "cell_type": "code",
      "metadata": {
        "id": "AJjjm-ZisuFv",
        "outputId": "009f679f-69e1-41dc-bba2-309f53cc6751"
      },
      "source": [
        "# Check\n",
        "trans.iloc[:,:][(trans.etime_draw == 1)]"
      ],
      "execution_count": null,
      "outputs": [
        {
          "data": {
            "text/html": [
              "<div>\n",
              "<style scoped>\n",
              "    .dataframe tbody tr th:only-of-type {\n",
              "        vertical-align: middle;\n",
              "    }\n",
              "\n",
              "    .dataframe tbody tr th {\n",
              "        vertical-align: top;\n",
              "    }\n",
              "\n",
              "    .dataframe thead th {\n",
              "        text-align: right;\n",
              "    }\n",
              "</style>\n",
              "<table border=\"1\" class=\"dataframe\">\n",
              "  <thead>\n",
              "    <tr style=\"text-align: right;\">\n",
              "      <th></th>\n",
              "      <th>seq</th>\n",
              "      <th>date</th>\n",
              "      <th>round</th>\n",
              "      <th>team1</th>\n",
              "      <th>gls_1</th>\n",
              "      <th>bhs_1</th>\n",
              "      <th>pts_1</th>\n",
              "      <th>team2</th>\n",
              "      <th>gls_2</th>\n",
              "      <th>bhs_2</th>\n",
              "      <th>...</th>\n",
              "      <th>state</th>\n",
              "      <th>hvar</th>\n",
              "      <th>aggr</th>\n",
              "      <th>year</th>\n",
              "      <th>month</th>\n",
              "      <th>t1</th>\n",
              "      <th>t2</th>\n",
              "      <th>draw_rt</th>\n",
              "      <th>etime_draw</th>\n",
              "      <th>draws_all</th>\n",
              "    </tr>\n",
              "  </thead>\n",
              "  <tbody>\n",
              "    <tr>\n",
              "      <th>10794</th>\n",
              "      <td>10794</td>\n",
              "      <td>1994-09-10</td>\n",
              "      <td>QF</td>\n",
              "      <td>North Melbourne</td>\n",
              "      <td>15</td>\n",
              "      <td>24</td>\n",
              "      <td>114</td>\n",
              "      <td>Hawthorn</td>\n",
              "      <td>13</td>\n",
              "      <td>13</td>\n",
              "      <td>...</td>\n",
              "      <td>VIC</td>\n",
              "      <td>23</td>\n",
              "      <td>205</td>\n",
              "      <td>1994</td>\n",
              "      <td>9</td>\n",
              "      <td>NM</td>\n",
              "      <td>HA</td>\n",
              "      <td>0</td>\n",
              "      <td>1</td>\n",
              "      <td>1</td>\n",
              "    </tr>\n",
              "    <tr>\n",
              "      <th>13203</th>\n",
              "      <td>13203</td>\n",
              "      <td>2007-09-14</td>\n",
              "      <td>SF</td>\n",
              "      <td>West Coast</td>\n",
              "      <td>10</td>\n",
              "      <td>14</td>\n",
              "      <td>74</td>\n",
              "      <td>Collingwood</td>\n",
              "      <td>13</td>\n",
              "      <td>15</td>\n",
              "      <td>...</td>\n",
              "      <td>WA</td>\n",
              "      <td>-19</td>\n",
              "      <td>167</td>\n",
              "      <td>2007</td>\n",
              "      <td>9</td>\n",
              "      <td>WC</td>\n",
              "      <td>CO</td>\n",
              "      <td>0</td>\n",
              "      <td>1</td>\n",
              "      <td>1</td>\n",
              "    </tr>\n",
              "  </tbody>\n",
              "</table>\n",
              "<p>2 rows × 22 columns</p>\n",
              "</div>"
            ],
            "text/plain": [
              "         seq       date round            team1  gls_1  bhs_1  pts_1  \\\n",
              "10794  10794 1994-09-10    QF  North Melbourne     15     24    114   \n",
              "13203  13203 2007-09-14    SF       West Coast     10     14     74   \n",
              "\n",
              "             team2  gls_2  bhs_2  ...  state hvar aggr  year  month  t1  t2  \\\n",
              "10794     Hawthorn     13     13  ...    VIC   23  205  1994      9  NM  HA   \n",
              "13203  Collingwood     13     15  ...     WA  -19  167  2007      9  WC  CO   \n",
              "\n",
              "      draw_rt etime_draw  draws_all  \n",
              "10794       0          1          1  \n",
              "13203       0          1          1  \n",
              "\n",
              "[2 rows x 22 columns]"
            ]
          },
          "execution_count": 28,
          "metadata": {},
          "output_type": "execute_result"
        }
      ]
    },
    {
      "cell_type": "markdown",
      "metadata": {
        "id": "hHB1wjd6suFv"
      },
      "source": [
        "# 6. GAME CATEGORY"
      ]
    },
    {
      "cell_type": "code",
      "metadata": {
        "id": "l4Q4HK95suFw"
      },
      "source": [
        "finals = ['EF','QF','SF','PF','GF']"
      ],
      "execution_count": null,
      "outputs": []
    },
    {
      "cell_type": "code",
      "metadata": {
        "id": "e22JumCUsuFw"
      },
      "source": [
        "def game_cat(x):\n",
        "    if x in finals:\n",
        "        return \"final\"\n",
        "    else: \n",
        "        return \"reg_season\""
      ],
      "execution_count": null,
      "outputs": []
    },
    {
      "cell_type": "code",
      "metadata": {
        "id": "T7hEMSYnsuFw"
      },
      "source": [
        "trans[\"type\"] = trans[\"round\"].apply(game_cat)"
      ],
      "execution_count": null,
      "outputs": []
    },
    {
      "cell_type": "code",
      "metadata": {
        "id": "s_asn8xesuFw",
        "outputId": "61701ef3-7e5c-4a6b-ac58-fe8c6f3089e1"
      },
      "source": [
        "trans['type'].value_counts()"
      ],
      "execution_count": null,
      "outputs": [
        {
          "data": {
            "text/plain": [
              "reg_season    15301\n",
              "final           673\n",
              "Name: type, dtype: int64"
            ]
          },
          "execution_count": 32,
          "metadata": {},
          "output_type": "execute_result"
        }
      ]
    },
    {
      "cell_type": "code",
      "metadata": {
        "id": "cUQZ9lUcsuFw",
        "outputId": "3c0afaaa-acf0-4abe-f6ca-c488e687d778"
      },
      "source": [
        "trans.tail()"
      ],
      "execution_count": null,
      "outputs": [
        {
          "data": {
            "text/html": [
              "<div>\n",
              "<style scoped>\n",
              "    .dataframe tbody tr th:only-of-type {\n",
              "        vertical-align: middle;\n",
              "    }\n",
              "\n",
              "    .dataframe tbody tr th {\n",
              "        vertical-align: top;\n",
              "    }\n",
              "\n",
              "    .dataframe thead th {\n",
              "        text-align: right;\n",
              "    }\n",
              "</style>\n",
              "<table border=\"1\" class=\"dataframe\">\n",
              "  <thead>\n",
              "    <tr style=\"text-align: right;\">\n",
              "      <th></th>\n",
              "      <th>seq</th>\n",
              "      <th>date</th>\n",
              "      <th>round</th>\n",
              "      <th>team1</th>\n",
              "      <th>gls_1</th>\n",
              "      <th>bhs_1</th>\n",
              "      <th>pts_1</th>\n",
              "      <th>team2</th>\n",
              "      <th>gls_2</th>\n",
              "      <th>bhs_2</th>\n",
              "      <th>...</th>\n",
              "      <th>hvar</th>\n",
              "      <th>aggr</th>\n",
              "      <th>year</th>\n",
              "      <th>month</th>\n",
              "      <th>t1</th>\n",
              "      <th>t2</th>\n",
              "      <th>draw_rt</th>\n",
              "      <th>etime_draw</th>\n",
              "      <th>draws_all</th>\n",
              "      <th>type</th>\n",
              "    </tr>\n",
              "  </thead>\n",
              "  <tbody>\n",
              "    <tr>\n",
              "      <th>15970</th>\n",
              "      <td>15970</td>\n",
              "      <td>2021-08-21</td>\n",
              "      <td>R23</td>\n",
              "      <td>Geelong</td>\n",
              "      <td>12</td>\n",
              "      <td>5</td>\n",
              "      <td>77</td>\n",
              "      <td>Melbourne</td>\n",
              "      <td>12</td>\n",
              "      <td>9</td>\n",
              "      <td>...</td>\n",
              "      <td>-4</td>\n",
              "      <td>158</td>\n",
              "      <td>2021</td>\n",
              "      <td>8</td>\n",
              "      <td>GE</td>\n",
              "      <td>ME</td>\n",
              "      <td>0</td>\n",
              "      <td>0</td>\n",
              "      <td>0</td>\n",
              "      <td>reg_season</td>\n",
              "    </tr>\n",
              "    <tr>\n",
              "      <th>15971</th>\n",
              "      <td>15971</td>\n",
              "      <td>2021-08-21</td>\n",
              "      <td>R23</td>\n",
              "      <td>Carlton</td>\n",
              "      <td>11</td>\n",
              "      <td>9</td>\n",
              "      <td>75</td>\n",
              "      <td>GWS Giants</td>\n",
              "      <td>12</td>\n",
              "      <td>17</td>\n",
              "      <td>...</td>\n",
              "      <td>-14</td>\n",
              "      <td>164</td>\n",
              "      <td>2021</td>\n",
              "      <td>8</td>\n",
              "      <td>CA</td>\n",
              "      <td>GW</td>\n",
              "      <td>0</td>\n",
              "      <td>0</td>\n",
              "      <td>0</td>\n",
              "      <td>reg_season</td>\n",
              "    </tr>\n",
              "    <tr>\n",
              "      <th>15972</th>\n",
              "      <td>15972</td>\n",
              "      <td>2021-08-22</td>\n",
              "      <td>R23</td>\n",
              "      <td>St Kilda</td>\n",
              "      <td>17</td>\n",
              "      <td>5</td>\n",
              "      <td>107</td>\n",
              "      <td>Fremantle</td>\n",
              "      <td>6</td>\n",
              "      <td>13</td>\n",
              "      <td>...</td>\n",
              "      <td>58</td>\n",
              "      <td>156</td>\n",
              "      <td>2021</td>\n",
              "      <td>8</td>\n",
              "      <td>SK</td>\n",
              "      <td>FR</td>\n",
              "      <td>0</td>\n",
              "      <td>0</td>\n",
              "      <td>0</td>\n",
              "      <td>reg_season</td>\n",
              "    </tr>\n",
              "    <tr>\n",
              "      <th>15973</th>\n",
              "      <td>15973</td>\n",
              "      <td>2021-08-22</td>\n",
              "      <td>R23</td>\n",
              "      <td>Essendon</td>\n",
              "      <td>16</td>\n",
              "      <td>6</td>\n",
              "      <td>102</td>\n",
              "      <td>Collingwood</td>\n",
              "      <td>9</td>\n",
              "      <td>10</td>\n",
              "      <td>...</td>\n",
              "      <td>38</td>\n",
              "      <td>166</td>\n",
              "      <td>2021</td>\n",
              "      <td>8</td>\n",
              "      <td>ES</td>\n",
              "      <td>CO</td>\n",
              "      <td>0</td>\n",
              "      <td>0</td>\n",
              "      <td>0</td>\n",
              "      <td>reg_season</td>\n",
              "    </tr>\n",
              "    <tr>\n",
              "      <th>15974</th>\n",
              "      <td>15974</td>\n",
              "      <td>2021-08-22</td>\n",
              "      <td>R23</td>\n",
              "      <td>Adelaide</td>\n",
              "      <td>13</td>\n",
              "      <td>20</td>\n",
              "      <td>98</td>\n",
              "      <td>North Melbourne</td>\n",
              "      <td>8</td>\n",
              "      <td>6</td>\n",
              "      <td>...</td>\n",
              "      <td>44</td>\n",
              "      <td>152</td>\n",
              "      <td>2021</td>\n",
              "      <td>8</td>\n",
              "      <td>AD</td>\n",
              "      <td>NM</td>\n",
              "      <td>0</td>\n",
              "      <td>0</td>\n",
              "      <td>0</td>\n",
              "      <td>reg_season</td>\n",
              "    </tr>\n",
              "  </tbody>\n",
              "</table>\n",
              "<p>5 rows × 23 columns</p>\n",
              "</div>"
            ],
            "text/plain": [
              "         seq       date round     team1  gls_1  bhs_1  pts_1            team2  \\\n",
              "15970  15970 2021-08-21   R23   Geelong     12      5     77        Melbourne   \n",
              "15971  15971 2021-08-21   R23   Carlton     11      9     75       GWS Giants   \n",
              "15972  15972 2021-08-22   R23  St Kilda     17      5    107        Fremantle   \n",
              "15973  15973 2021-08-22   R23  Essendon     16      6    102      Collingwood   \n",
              "15974  15974 2021-08-22   R23  Adelaide     13     20     98  North Melbourne   \n",
              "\n",
              "       gls_2  bhs_2  ...  hvar aggr  year  month  t1  t2  draw_rt etime_draw  \\\n",
              "15970     12      9  ...    -4  158  2021      8  GE  ME        0          0   \n",
              "15971     12     17  ...   -14  164  2021      8  CA  GW        0          0   \n",
              "15972      6     13  ...    58  156  2021      8  SK  FR        0          0   \n",
              "15973      9     10  ...    38  166  2021      8  ES  CO        0          0   \n",
              "15974      8      6  ...    44  152  2021      8  AD  NM        0          0   \n",
              "\n",
              "      draws_all        type  \n",
              "15970         0  reg_season  \n",
              "15971         0  reg_season  \n",
              "15972         0  reg_season  \n",
              "15973         0  reg_season  \n",
              "15974         0  reg_season  \n",
              "\n",
              "[5 rows x 23 columns]"
            ]
          },
          "execution_count": 33,
          "metadata": {},
          "output_type": "execute_result"
        }
      ]
    },
    {
      "cell_type": "markdown",
      "metadata": {
        "id": "oOKKSC3vsuFw"
      },
      "source": [
        "## 7. GROUPING COLUMNS"
      ]
    },
    {
      "cell_type": "code",
      "metadata": {
        "id": "t2Fp1mezsuFw"
      },
      "source": [
        "def grouping_2K(seq):\n",
        "    n=500\n",
        "    if seq <= 4*n:\n",
        "        return 1\n",
        "    elif seq <= 8*n:\n",
        "        return 2\n",
        "    elif seq <= 12*n:\n",
        "        return 3\n",
        "    elif seq <= 16*n:\n",
        "        return 4\n",
        "    elif seq <= 20*n:\n",
        "        return 5\n",
        "    elif seq <= 24*n:\n",
        "        return 6\n",
        "    elif seq <= 28*n:\n",
        "        return 7\n",
        "    else: return 8"
      ],
      "execution_count": null,
      "outputs": []
    },
    {
      "cell_type": "code",
      "metadata": {
        "id": "z3zDHDavsuFx"
      },
      "source": [
        "trans[\"grp_2K\"] = trans[\"seq\"].apply(grouping_2K)"
      ],
      "execution_count": null,
      "outputs": []
    },
    {
      "cell_type": "code",
      "metadata": {
        "id": "NHorbFX3suFx"
      },
      "source": [
        "def grouping_1K(seq):\n",
        "    n=1000\n",
        "    if seq <= n:\n",
        "        return 1\n",
        "    elif seq <= 2*n:\n",
        "        return 2\n",
        "    elif seq <= 3*n:\n",
        "        return 3\n",
        "    elif seq <= 4*n:\n",
        "        return 4\n",
        "    elif seq <= 5*n:\n",
        "        return 5\n",
        "    elif seq <= 6*n:\n",
        "        return 6\n",
        "    elif seq <= 7*n:\n",
        "        return 7\n",
        "    elif seq <= 8*n:\n",
        "        return 8\n",
        "    elif seq <= 9*n:\n",
        "        return 9\n",
        "    elif seq <= 10*n:\n",
        "        return 10\n",
        "    elif seq <= 11*n:\n",
        "        return 11\n",
        "    elif seq <= 12*n:\n",
        "        return 12\n",
        "    elif seq <= 13*n:\n",
        "        return 13\n",
        "    elif seq <= 14*n:\n",
        "        return 14\n",
        "    elif seq <= 15*n:\n",
        "        return 15\n",
        "    else: return 16"
      ],
      "execution_count": null,
      "outputs": []
    },
    {
      "cell_type": "code",
      "metadata": {
        "id": "KsWgs4TRsuFx"
      },
      "source": [
        "trans[\"grp_1K\"] = trans[\"seq\"].apply(grouping_1K)"
      ],
      "execution_count": null,
      "outputs": []
    },
    {
      "cell_type": "markdown",
      "metadata": {
        "id": "hrSgukBKsuFx"
      },
      "source": [
        "## 8. ADD res1 and res2 columns as categorical 1 = win, 2 = loss, 3 = draw based on hvar (ignoring the two extra time finals)"
      ]
    },
    {
      "cell_type": "code",
      "metadata": {
        "id": "mGVVX7NasuFx"
      },
      "source": [
        "def result_cat_h(hvar):\n",
        "    if hvar > 0:\n",
        "        return 1\n",
        "    elif hvar < 0:\n",
        "        return 2\n",
        "    else: return 3"
      ],
      "execution_count": null,
      "outputs": []
    },
    {
      "cell_type": "code",
      "metadata": {
        "id": "bxJGnRtysuFx"
      },
      "source": [
        "def result_cat_a(hvar):\n",
        "    if hvar > 0:\n",
        "        return 2\n",
        "    elif hvar < 0:\n",
        "        return 1\n",
        "    else: return 3"
      ],
      "execution_count": null,
      "outputs": []
    },
    {
      "cell_type": "code",
      "metadata": {
        "id": "H8ZcrZ9rsuFx"
      },
      "source": [
        "trans['res1'] = trans['hvar'].apply(result_cat_h)\n",
        "trans['res2'] = trans['hvar'].apply(result_cat_a)"
      ],
      "execution_count": null,
      "outputs": []
    },
    {
      "cell_type": "code",
      "metadata": {
        "id": "AW-lA8BQsuFy",
        "outputId": "310d97e0-d528-4c77-948e-827187ba7bfd"
      },
      "source": [
        "trans.head()"
      ],
      "execution_count": null,
      "outputs": [
        {
          "data": {
            "text/html": [
              "<div>\n",
              "<style scoped>\n",
              "    .dataframe tbody tr th:only-of-type {\n",
              "        vertical-align: middle;\n",
              "    }\n",
              "\n",
              "    .dataframe tbody tr th {\n",
              "        vertical-align: top;\n",
              "    }\n",
              "\n",
              "    .dataframe thead th {\n",
              "        text-align: right;\n",
              "    }\n",
              "</style>\n",
              "<table border=\"1\" class=\"dataframe\">\n",
              "  <thead>\n",
              "    <tr style=\"text-align: right;\">\n",
              "      <th></th>\n",
              "      <th>seq</th>\n",
              "      <th>date</th>\n",
              "      <th>round</th>\n",
              "      <th>team1</th>\n",
              "      <th>gls_1</th>\n",
              "      <th>bhs_1</th>\n",
              "      <th>pts_1</th>\n",
              "      <th>team2</th>\n",
              "      <th>gls_2</th>\n",
              "      <th>bhs_2</th>\n",
              "      <th>...</th>\n",
              "      <th>t1</th>\n",
              "      <th>t2</th>\n",
              "      <th>draw_rt</th>\n",
              "      <th>etime_draw</th>\n",
              "      <th>draws_all</th>\n",
              "      <th>type</th>\n",
              "      <th>grp_2K</th>\n",
              "      <th>grp_1K</th>\n",
              "      <th>res1</th>\n",
              "      <th>res2</th>\n",
              "    </tr>\n",
              "  </thead>\n",
              "  <tbody>\n",
              "    <tr>\n",
              "      <th>1</th>\n",
              "      <td>1</td>\n",
              "      <td>1897-05-08</td>\n",
              "      <td>R1</td>\n",
              "      <td>Fitzroy</td>\n",
              "      <td>6</td>\n",
              "      <td>13</td>\n",
              "      <td>49</td>\n",
              "      <td>Carlton</td>\n",
              "      <td>2</td>\n",
              "      <td>4</td>\n",
              "      <td>...</td>\n",
              "      <td>FI</td>\n",
              "      <td>CA</td>\n",
              "      <td>0</td>\n",
              "      <td>0</td>\n",
              "      <td>0</td>\n",
              "      <td>reg_season</td>\n",
              "      <td>1</td>\n",
              "      <td>1</td>\n",
              "      <td>1</td>\n",
              "      <td>2</td>\n",
              "    </tr>\n",
              "    <tr>\n",
              "      <th>2</th>\n",
              "      <td>2</td>\n",
              "      <td>1897-05-08</td>\n",
              "      <td>R1</td>\n",
              "      <td>Collingwood</td>\n",
              "      <td>5</td>\n",
              "      <td>11</td>\n",
              "      <td>41</td>\n",
              "      <td>St Kilda</td>\n",
              "      <td>2</td>\n",
              "      <td>4</td>\n",
              "      <td>...</td>\n",
              "      <td>CO</td>\n",
              "      <td>SK</td>\n",
              "      <td>0</td>\n",
              "      <td>0</td>\n",
              "      <td>0</td>\n",
              "      <td>reg_season</td>\n",
              "      <td>1</td>\n",
              "      <td>1</td>\n",
              "      <td>1</td>\n",
              "      <td>2</td>\n",
              "    </tr>\n",
              "    <tr>\n",
              "      <th>3</th>\n",
              "      <td>3</td>\n",
              "      <td>1897-05-08</td>\n",
              "      <td>R1</td>\n",
              "      <td>Geelong</td>\n",
              "      <td>3</td>\n",
              "      <td>6</td>\n",
              "      <td>24</td>\n",
              "      <td>Essendon</td>\n",
              "      <td>7</td>\n",
              "      <td>5</td>\n",
              "      <td>...</td>\n",
              "      <td>GE</td>\n",
              "      <td>ES</td>\n",
              "      <td>0</td>\n",
              "      <td>0</td>\n",
              "      <td>0</td>\n",
              "      <td>reg_season</td>\n",
              "      <td>1</td>\n",
              "      <td>1</td>\n",
              "      <td>2</td>\n",
              "      <td>1</td>\n",
              "    </tr>\n",
              "    <tr>\n",
              "      <th>4</th>\n",
              "      <td>4</td>\n",
              "      <td>1897-05-08</td>\n",
              "      <td>R1</td>\n",
              "      <td>South Melbourne</td>\n",
              "      <td>3</td>\n",
              "      <td>9</td>\n",
              "      <td>27</td>\n",
              "      <td>Melbourne</td>\n",
              "      <td>6</td>\n",
              "      <td>8</td>\n",
              "      <td>...</td>\n",
              "      <td>SM</td>\n",
              "      <td>ME</td>\n",
              "      <td>0</td>\n",
              "      <td>0</td>\n",
              "      <td>0</td>\n",
              "      <td>reg_season</td>\n",
              "      <td>1</td>\n",
              "      <td>1</td>\n",
              "      <td>2</td>\n",
              "      <td>1</td>\n",
              "    </tr>\n",
              "    <tr>\n",
              "      <th>5</th>\n",
              "      <td>5</td>\n",
              "      <td>1897-05-15</td>\n",
              "      <td>R2</td>\n",
              "      <td>South Melbourne</td>\n",
              "      <td>6</td>\n",
              "      <td>4</td>\n",
              "      <td>40</td>\n",
              "      <td>Carlton</td>\n",
              "      <td>5</td>\n",
              "      <td>6</td>\n",
              "      <td>...</td>\n",
              "      <td>SM</td>\n",
              "      <td>CA</td>\n",
              "      <td>0</td>\n",
              "      <td>0</td>\n",
              "      <td>0</td>\n",
              "      <td>reg_season</td>\n",
              "      <td>1</td>\n",
              "      <td>1</td>\n",
              "      <td>1</td>\n",
              "      <td>2</td>\n",
              "    </tr>\n",
              "  </tbody>\n",
              "</table>\n",
              "<p>5 rows × 27 columns</p>\n",
              "</div>"
            ],
            "text/plain": [
              "   seq       date round            team1  gls_1  bhs_1  pts_1      team2  \\\n",
              "1    1 1897-05-08    R1          Fitzroy      6     13     49    Carlton   \n",
              "2    2 1897-05-08    R1      Collingwood      5     11     41   St Kilda   \n",
              "3    3 1897-05-08    R1          Geelong      3      6     24   Essendon   \n",
              "4    4 1897-05-08    R1  South Melbourne      3      9     27  Melbourne   \n",
              "5    5 1897-05-15    R2  South Melbourne      6      4     40    Carlton   \n",
              "\n",
              "   gls_2  bhs_2  ...  t1  t2 draw_rt  etime_draw  draws_all        type  \\\n",
              "1      2      4  ...  FI  CA       0           0          0  reg_season   \n",
              "2      2      4  ...  CO  SK       0           0          0  reg_season   \n",
              "3      7      5  ...  GE  ES       0           0          0  reg_season   \n",
              "4      6      8  ...  SM  ME       0           0          0  reg_season   \n",
              "5      5      6  ...  SM  CA       0           0          0  reg_season   \n",
              "\n",
              "   grp_2K grp_1K res1  res2  \n",
              "1       1      1    1     2  \n",
              "2       1      1    1     2  \n",
              "3       1      1    2     1  \n",
              "4       1      1    2     1  \n",
              "5       1      1    1     2  \n",
              "\n",
              "[5 rows x 27 columns]"
            ]
          },
          "execution_count": 41,
          "metadata": {},
          "output_type": "execute_result"
        }
      ]
    },
    {
      "cell_type": "markdown",
      "metadata": {
        "id": "TRImzzJvsuFy"
      },
      "source": [
        "## Export wide format results since 1897"
      ]
    },
    {
      "cell_type": "code",
      "metadata": {
        "id": "65nx_Mh3suFy"
      },
      "source": [
        "trans.to_csv('wide_afl_run.csv')"
      ],
      "execution_count": null,
      "outputs": []
    },
    {
      "cell_type": "markdown",
      "metadata": {
        "id": "PfdsTeQisuFy"
      },
      "source": [
        "# PAGEBREAK"
      ]
    },
    {
      "cell_type": "markdown",
      "metadata": {
        "id": "ZNIcH8iQsuFy"
      },
      "source": [
        "# Convert data frame from wide to long format - each game appears twice (once for each team)"
      ]
    },
    {
      "cell_type": "markdown",
      "metadata": {
        "id": "cew1RM04suFy"
      },
      "source": [
        "## 9. Reduce and re-order the data frame"
      ]
    },
    {
      "cell_type": "code",
      "metadata": {
        "id": "3Qo34QMUsuFy",
        "outputId": "f044f917-35ce-46e9-f983-c892571aa92d"
      },
      "source": [
        "tracker = trans\n",
        "tracker = tracker[['year', 'team1','pts_1','team2','pts_2','venue','t1','t2','hvar']]\n",
        "tracker.tail()"
      ],
      "execution_count": null,
      "outputs": [
        {
          "data": {
            "text/html": [
              "<div>\n",
              "<style scoped>\n",
              "    .dataframe tbody tr th:only-of-type {\n",
              "        vertical-align: middle;\n",
              "    }\n",
              "\n",
              "    .dataframe tbody tr th {\n",
              "        vertical-align: top;\n",
              "    }\n",
              "\n",
              "    .dataframe thead th {\n",
              "        text-align: right;\n",
              "    }\n",
              "</style>\n",
              "<table border=\"1\" class=\"dataframe\">\n",
              "  <thead>\n",
              "    <tr style=\"text-align: right;\">\n",
              "      <th></th>\n",
              "      <th>year</th>\n",
              "      <th>team1</th>\n",
              "      <th>pts_1</th>\n",
              "      <th>team2</th>\n",
              "      <th>pts_2</th>\n",
              "      <th>venue</th>\n",
              "      <th>t1</th>\n",
              "      <th>t2</th>\n",
              "      <th>hvar</th>\n",
              "    </tr>\n",
              "  </thead>\n",
              "  <tbody>\n",
              "    <tr>\n",
              "      <th>15970</th>\n",
              "      <td>2021</td>\n",
              "      <td>Geelong</td>\n",
              "      <td>77</td>\n",
              "      <td>Melbourne</td>\n",
              "      <td>81</td>\n",
              "      <td>Kardinia Park</td>\n",
              "      <td>GE</td>\n",
              "      <td>ME</td>\n",
              "      <td>-4</td>\n",
              "    </tr>\n",
              "    <tr>\n",
              "      <th>15971</th>\n",
              "      <td>2021</td>\n",
              "      <td>Carlton</td>\n",
              "      <td>75</td>\n",
              "      <td>GWS Giants</td>\n",
              "      <td>89</td>\n",
              "      <td>Docklands</td>\n",
              "      <td>CA</td>\n",
              "      <td>GW</td>\n",
              "      <td>-14</td>\n",
              "    </tr>\n",
              "    <tr>\n",
              "      <th>15972</th>\n",
              "      <td>2021</td>\n",
              "      <td>St Kilda</td>\n",
              "      <td>107</td>\n",
              "      <td>Fremantle</td>\n",
              "      <td>49</td>\n",
              "      <td>Bellerive Oval</td>\n",
              "      <td>SK</td>\n",
              "      <td>FR</td>\n",
              "      <td>58</td>\n",
              "    </tr>\n",
              "    <tr>\n",
              "      <th>15973</th>\n",
              "      <td>2021</td>\n",
              "      <td>Essendon</td>\n",
              "      <td>102</td>\n",
              "      <td>Collingwood</td>\n",
              "      <td>64</td>\n",
              "      <td>M.C.G.</td>\n",
              "      <td>ES</td>\n",
              "      <td>CO</td>\n",
              "      <td>38</td>\n",
              "    </tr>\n",
              "    <tr>\n",
              "      <th>15974</th>\n",
              "      <td>2021</td>\n",
              "      <td>Adelaide</td>\n",
              "      <td>98</td>\n",
              "      <td>North Melbourne</td>\n",
              "      <td>54</td>\n",
              "      <td>Adelaide Oval</td>\n",
              "      <td>AD</td>\n",
              "      <td>NM</td>\n",
              "      <td>44</td>\n",
              "    </tr>\n",
              "  </tbody>\n",
              "</table>\n",
              "</div>"
            ],
            "text/plain": [
              "       year     team1  pts_1            team2  pts_2           venue  t1  t2  \\\n",
              "15970  2021   Geelong     77        Melbourne     81   Kardinia Park  GE  ME   \n",
              "15971  2021   Carlton     75       GWS Giants     89       Docklands  CA  GW   \n",
              "15972  2021  St Kilda    107        Fremantle     49  Bellerive Oval  SK  FR   \n",
              "15973  2021  Essendon    102      Collingwood     64          M.C.G.  ES  CO   \n",
              "15974  2021  Adelaide     98  North Melbourne     54   Adelaide Oval  AD  NM   \n",
              "\n",
              "       hvar  \n",
              "15970    -4  \n",
              "15971   -14  \n",
              "15972    58  \n",
              "15973    38  \n",
              "15974    44  "
            ]
          },
          "execution_count": 43,
          "metadata": {},
          "output_type": "execute_result"
        }
      ]
    },
    {
      "cell_type": "markdown",
      "metadata": {
        "id": "o8GL8AW_suFz"
      },
      "source": [
        "### Create two new columns with values 1 and 0 for the two subsets"
      ]
    },
    {
      "cell_type": "code",
      "metadata": {
        "id": "DmQ3Lne8suFz",
        "outputId": "6f350ae2-aba9-4244-d60b-1627857541a4"
      },
      "source": [
        "tracker['subset_1'] = 1\n",
        "tracker['subset_2'] = 0"
      ],
      "execution_count": null,
      "outputs": [
        {
          "name": "stderr",
          "output_type": "stream",
          "text": [
            "/var/folders/p7/vz1lk6y57ynbc3fpjldpnb700000gn/T/ipykernel_45332/4012781384.py:1: SettingWithCopyWarning: \n",
            "A value is trying to be set on a copy of a slice from a DataFrame.\n",
            "Try using .loc[row_indexer,col_indexer] = value instead\n",
            "\n",
            "See the caveats in the documentation: https://pandas.pydata.org/pandas-docs/stable/user_guide/indexing.html#returning-a-view-versus-a-copy\n",
            "  tracker['subset_1'] = 1\n",
            "/var/folders/p7/vz1lk6y57ynbc3fpjldpnb700000gn/T/ipykernel_45332/4012781384.py:2: SettingWithCopyWarning: \n",
            "A value is trying to be set on a copy of a slice from a DataFrame.\n",
            "Try using .loc[row_indexer,col_indexer] = value instead\n",
            "\n",
            "See the caveats in the documentation: https://pandas.pydata.org/pandas-docs/stable/user_guide/indexing.html#returning-a-view-versus-a-copy\n",
            "  tracker['subset_2'] = 0\n"
          ]
        }
      ]
    },
    {
      "cell_type": "code",
      "metadata": {
        "id": "_TWHWGW5suFz",
        "outputId": "4548d911-b615-48d8-9c67-a2c446294df3"
      },
      "source": [
        "tracker.head()"
      ],
      "execution_count": null,
      "outputs": [
        {
          "data": {
            "text/html": [
              "<div>\n",
              "<style scoped>\n",
              "    .dataframe tbody tr th:only-of-type {\n",
              "        vertical-align: middle;\n",
              "    }\n",
              "\n",
              "    .dataframe tbody tr th {\n",
              "        vertical-align: top;\n",
              "    }\n",
              "\n",
              "    .dataframe thead th {\n",
              "        text-align: right;\n",
              "    }\n",
              "</style>\n",
              "<table border=\"1\" class=\"dataframe\">\n",
              "  <thead>\n",
              "    <tr style=\"text-align: right;\">\n",
              "      <th></th>\n",
              "      <th>year</th>\n",
              "      <th>team1</th>\n",
              "      <th>pts_1</th>\n",
              "      <th>team2</th>\n",
              "      <th>pts_2</th>\n",
              "      <th>venue</th>\n",
              "      <th>t1</th>\n",
              "      <th>t2</th>\n",
              "      <th>hvar</th>\n",
              "      <th>subset_1</th>\n",
              "      <th>subset_2</th>\n",
              "    </tr>\n",
              "  </thead>\n",
              "  <tbody>\n",
              "    <tr>\n",
              "      <th>1</th>\n",
              "      <td>1897</td>\n",
              "      <td>Fitzroy</td>\n",
              "      <td>49</td>\n",
              "      <td>Carlton</td>\n",
              "      <td>16</td>\n",
              "      <td>Brunswick St</td>\n",
              "      <td>FI</td>\n",
              "      <td>CA</td>\n",
              "      <td>33</td>\n",
              "      <td>1</td>\n",
              "      <td>0</td>\n",
              "    </tr>\n",
              "    <tr>\n",
              "      <th>2</th>\n",
              "      <td>1897</td>\n",
              "      <td>Collingwood</td>\n",
              "      <td>41</td>\n",
              "      <td>St Kilda</td>\n",
              "      <td>16</td>\n",
              "      <td>Victoria Park</td>\n",
              "      <td>CO</td>\n",
              "      <td>SK</td>\n",
              "      <td>25</td>\n",
              "      <td>1</td>\n",
              "      <td>0</td>\n",
              "    </tr>\n",
              "    <tr>\n",
              "      <th>3</th>\n",
              "      <td>1897</td>\n",
              "      <td>Geelong</td>\n",
              "      <td>24</td>\n",
              "      <td>Essendon</td>\n",
              "      <td>47</td>\n",
              "      <td>Corio Oval</td>\n",
              "      <td>GE</td>\n",
              "      <td>ES</td>\n",
              "      <td>-23</td>\n",
              "      <td>1</td>\n",
              "      <td>0</td>\n",
              "    </tr>\n",
              "    <tr>\n",
              "      <th>4</th>\n",
              "      <td>1897</td>\n",
              "      <td>South Melbourne</td>\n",
              "      <td>27</td>\n",
              "      <td>Melbourne</td>\n",
              "      <td>44</td>\n",
              "      <td>Lake Oval</td>\n",
              "      <td>SM</td>\n",
              "      <td>ME</td>\n",
              "      <td>-17</td>\n",
              "      <td>1</td>\n",
              "      <td>0</td>\n",
              "    </tr>\n",
              "    <tr>\n",
              "      <th>5</th>\n",
              "      <td>1897</td>\n",
              "      <td>South Melbourne</td>\n",
              "      <td>40</td>\n",
              "      <td>Carlton</td>\n",
              "      <td>36</td>\n",
              "      <td>Lake Oval</td>\n",
              "      <td>SM</td>\n",
              "      <td>CA</td>\n",
              "      <td>4</td>\n",
              "      <td>1</td>\n",
              "      <td>0</td>\n",
              "    </tr>\n",
              "  </tbody>\n",
              "</table>\n",
              "</div>"
            ],
            "text/plain": [
              "   year            team1  pts_1      team2  pts_2          venue  t1  t2  \\\n",
              "1  1897          Fitzroy     49    Carlton     16   Brunswick St  FI  CA   \n",
              "2  1897      Collingwood     41   St Kilda     16  Victoria Park  CO  SK   \n",
              "3  1897          Geelong     24   Essendon     47     Corio Oval  GE  ES   \n",
              "4  1897  South Melbourne     27  Melbourne     44      Lake Oval  SM  ME   \n",
              "5  1897  South Melbourne     40    Carlton     36      Lake Oval  SM  CA   \n",
              "\n",
              "   hvar  subset_1  subset_2  \n",
              "1    33         1         0  \n",
              "2    25         1         0  \n",
              "3   -23         1         0  \n",
              "4   -17         1         0  \n",
              "5     4         1         0  "
            ]
          },
          "execution_count": 45,
          "metadata": {},
          "output_type": "execute_result"
        }
      ]
    },
    {
      "cell_type": "markdown",
      "metadata": {
        "id": "bc-CcSx8suFz"
      },
      "source": [
        "### List for dropping "
      ]
    },
    {
      "cell_type": "code",
      "metadata": {
        "id": "xk5jtCqJsuFz"
      },
      "source": [
        "droplist_1 = ['subset_2']\n",
        "droplist_2 = ['subset_1']"
      ],
      "execution_count": null,
      "outputs": []
    },
    {
      "cell_type": "code",
      "metadata": {
        "id": "r8-nedI2suFz"
      },
      "source": [
        "left_team = tracker.drop(droplist_1, axis = 1)\n",
        "right_team = tracker.drop(droplist_2, axis = 1)"
      ],
      "execution_count": null,
      "outputs": []
    },
    {
      "cell_type": "code",
      "metadata": {
        "id": "t-IfnvARsuFz",
        "outputId": "c2567edb-f302-4525-c47d-310d71436063"
      },
      "source": [
        "left_team.shape"
      ],
      "execution_count": null,
      "outputs": [
        {
          "data": {
            "text/plain": [
              "(15974, 10)"
            ]
          },
          "execution_count": 48,
          "metadata": {},
          "output_type": "execute_result"
        }
      ]
    },
    {
      "cell_type": "code",
      "metadata": {
        "id": "fdaT2T0EsuF0",
        "outputId": "d79b9e5a-3b72-4a8c-e7ea-6172dbea5a2e"
      },
      "source": [
        "right_team.shape"
      ],
      "execution_count": null,
      "outputs": [
        {
          "data": {
            "text/plain": [
              "(15974, 10)"
            ]
          },
          "execution_count": 49,
          "metadata": {},
          "output_type": "execute_result"
        }
      ]
    },
    {
      "cell_type": "markdown",
      "metadata": {
        "id": "5H-HZluOsuF0"
      },
      "source": [
        "### Rename columns in each dframe "
      ]
    },
    {
      "cell_type": "code",
      "metadata": {
        "id": "vQPIN6gpsuF0",
        "outputId": "4168f8b7-9a86-4a4b-d2a5-2fcddd5c24f0"
      },
      "source": [
        "left_team.tail()"
      ],
      "execution_count": null,
      "outputs": [
        {
          "data": {
            "text/html": [
              "<div>\n",
              "<style scoped>\n",
              "    .dataframe tbody tr th:only-of-type {\n",
              "        vertical-align: middle;\n",
              "    }\n",
              "\n",
              "    .dataframe tbody tr th {\n",
              "        vertical-align: top;\n",
              "    }\n",
              "\n",
              "    .dataframe thead th {\n",
              "        text-align: right;\n",
              "    }\n",
              "</style>\n",
              "<table border=\"1\" class=\"dataframe\">\n",
              "  <thead>\n",
              "    <tr style=\"text-align: right;\">\n",
              "      <th></th>\n",
              "      <th>year</th>\n",
              "      <th>team1</th>\n",
              "      <th>pts_1</th>\n",
              "      <th>team2</th>\n",
              "      <th>pts_2</th>\n",
              "      <th>venue</th>\n",
              "      <th>t1</th>\n",
              "      <th>t2</th>\n",
              "      <th>hvar</th>\n",
              "      <th>subset_1</th>\n",
              "    </tr>\n",
              "  </thead>\n",
              "  <tbody>\n",
              "    <tr>\n",
              "      <th>15970</th>\n",
              "      <td>2021</td>\n",
              "      <td>Geelong</td>\n",
              "      <td>77</td>\n",
              "      <td>Melbourne</td>\n",
              "      <td>81</td>\n",
              "      <td>Kardinia Park</td>\n",
              "      <td>GE</td>\n",
              "      <td>ME</td>\n",
              "      <td>-4</td>\n",
              "      <td>1</td>\n",
              "    </tr>\n",
              "    <tr>\n",
              "      <th>15971</th>\n",
              "      <td>2021</td>\n",
              "      <td>Carlton</td>\n",
              "      <td>75</td>\n",
              "      <td>GWS Giants</td>\n",
              "      <td>89</td>\n",
              "      <td>Docklands</td>\n",
              "      <td>CA</td>\n",
              "      <td>GW</td>\n",
              "      <td>-14</td>\n",
              "      <td>1</td>\n",
              "    </tr>\n",
              "    <tr>\n",
              "      <th>15972</th>\n",
              "      <td>2021</td>\n",
              "      <td>St Kilda</td>\n",
              "      <td>107</td>\n",
              "      <td>Fremantle</td>\n",
              "      <td>49</td>\n",
              "      <td>Bellerive Oval</td>\n",
              "      <td>SK</td>\n",
              "      <td>FR</td>\n",
              "      <td>58</td>\n",
              "      <td>1</td>\n",
              "    </tr>\n",
              "    <tr>\n",
              "      <th>15973</th>\n",
              "      <td>2021</td>\n",
              "      <td>Essendon</td>\n",
              "      <td>102</td>\n",
              "      <td>Collingwood</td>\n",
              "      <td>64</td>\n",
              "      <td>M.C.G.</td>\n",
              "      <td>ES</td>\n",
              "      <td>CO</td>\n",
              "      <td>38</td>\n",
              "      <td>1</td>\n",
              "    </tr>\n",
              "    <tr>\n",
              "      <th>15974</th>\n",
              "      <td>2021</td>\n",
              "      <td>Adelaide</td>\n",
              "      <td>98</td>\n",
              "      <td>North Melbourne</td>\n",
              "      <td>54</td>\n",
              "      <td>Adelaide Oval</td>\n",
              "      <td>AD</td>\n",
              "      <td>NM</td>\n",
              "      <td>44</td>\n",
              "      <td>1</td>\n",
              "    </tr>\n",
              "  </tbody>\n",
              "</table>\n",
              "</div>"
            ],
            "text/plain": [
              "       year     team1  pts_1            team2  pts_2           venue  t1  t2  \\\n",
              "15970  2021   Geelong     77        Melbourne     81   Kardinia Park  GE  ME   \n",
              "15971  2021   Carlton     75       GWS Giants     89       Docklands  CA  GW   \n",
              "15972  2021  St Kilda    107        Fremantle     49  Bellerive Oval  SK  FR   \n",
              "15973  2021  Essendon    102      Collingwood     64          M.C.G.  ES  CO   \n",
              "15974  2021  Adelaide     98  North Melbourne     54   Adelaide Oval  AD  NM   \n",
              "\n",
              "       hvar  subset_1  \n",
              "15970    -4         1  \n",
              "15971   -14         1  \n",
              "15972    58         1  \n",
              "15973    38         1  \n",
              "15974    44         1  "
            ]
          },
          "execution_count": 50,
          "metadata": {},
          "output_type": "execute_result"
        }
      ]
    },
    {
      "cell_type": "code",
      "metadata": {
        "id": "QRNSV75IsuF0"
      },
      "source": [
        "left_team.columns = ['year','team','tm_pts','opp_team','op_pts','venue','tm','op','hvar','lr']"
      ],
      "execution_count": null,
      "outputs": []
    },
    {
      "cell_type": "code",
      "metadata": {
        "id": "kLXXt4CGsuF0",
        "outputId": "46dbe525-a8b8-4b69-96eb-7429d7b83177"
      },
      "source": [
        "left_team.tail()"
      ],
      "execution_count": null,
      "outputs": [
        {
          "data": {
            "text/html": [
              "<div>\n",
              "<style scoped>\n",
              "    .dataframe tbody tr th:only-of-type {\n",
              "        vertical-align: middle;\n",
              "    }\n",
              "\n",
              "    .dataframe tbody tr th {\n",
              "        vertical-align: top;\n",
              "    }\n",
              "\n",
              "    .dataframe thead th {\n",
              "        text-align: right;\n",
              "    }\n",
              "</style>\n",
              "<table border=\"1\" class=\"dataframe\">\n",
              "  <thead>\n",
              "    <tr style=\"text-align: right;\">\n",
              "      <th></th>\n",
              "      <th>year</th>\n",
              "      <th>team</th>\n",
              "      <th>tm_pts</th>\n",
              "      <th>opp_team</th>\n",
              "      <th>op_pts</th>\n",
              "      <th>venue</th>\n",
              "      <th>tm</th>\n",
              "      <th>op</th>\n",
              "      <th>hvar</th>\n",
              "      <th>lr</th>\n",
              "    </tr>\n",
              "  </thead>\n",
              "  <tbody>\n",
              "    <tr>\n",
              "      <th>15970</th>\n",
              "      <td>2021</td>\n",
              "      <td>Geelong</td>\n",
              "      <td>77</td>\n",
              "      <td>Melbourne</td>\n",
              "      <td>81</td>\n",
              "      <td>Kardinia Park</td>\n",
              "      <td>GE</td>\n",
              "      <td>ME</td>\n",
              "      <td>-4</td>\n",
              "      <td>1</td>\n",
              "    </tr>\n",
              "    <tr>\n",
              "      <th>15971</th>\n",
              "      <td>2021</td>\n",
              "      <td>Carlton</td>\n",
              "      <td>75</td>\n",
              "      <td>GWS Giants</td>\n",
              "      <td>89</td>\n",
              "      <td>Docklands</td>\n",
              "      <td>CA</td>\n",
              "      <td>GW</td>\n",
              "      <td>-14</td>\n",
              "      <td>1</td>\n",
              "    </tr>\n",
              "    <tr>\n",
              "      <th>15972</th>\n",
              "      <td>2021</td>\n",
              "      <td>St Kilda</td>\n",
              "      <td>107</td>\n",
              "      <td>Fremantle</td>\n",
              "      <td>49</td>\n",
              "      <td>Bellerive Oval</td>\n",
              "      <td>SK</td>\n",
              "      <td>FR</td>\n",
              "      <td>58</td>\n",
              "      <td>1</td>\n",
              "    </tr>\n",
              "    <tr>\n",
              "      <th>15973</th>\n",
              "      <td>2021</td>\n",
              "      <td>Essendon</td>\n",
              "      <td>102</td>\n",
              "      <td>Collingwood</td>\n",
              "      <td>64</td>\n",
              "      <td>M.C.G.</td>\n",
              "      <td>ES</td>\n",
              "      <td>CO</td>\n",
              "      <td>38</td>\n",
              "      <td>1</td>\n",
              "    </tr>\n",
              "    <tr>\n",
              "      <th>15974</th>\n",
              "      <td>2021</td>\n",
              "      <td>Adelaide</td>\n",
              "      <td>98</td>\n",
              "      <td>North Melbourne</td>\n",
              "      <td>54</td>\n",
              "      <td>Adelaide Oval</td>\n",
              "      <td>AD</td>\n",
              "      <td>NM</td>\n",
              "      <td>44</td>\n",
              "      <td>1</td>\n",
              "    </tr>\n",
              "  </tbody>\n",
              "</table>\n",
              "</div>"
            ],
            "text/plain": [
              "       year      team  tm_pts         opp_team  op_pts           venue  tm  \\\n",
              "15970  2021   Geelong      77        Melbourne      81   Kardinia Park  GE   \n",
              "15971  2021   Carlton      75       GWS Giants      89       Docklands  CA   \n",
              "15972  2021  St Kilda     107        Fremantle      49  Bellerive Oval  SK   \n",
              "15973  2021  Essendon     102      Collingwood      64          M.C.G.  ES   \n",
              "15974  2021  Adelaide      98  North Melbourne      54   Adelaide Oval  AD   \n",
              "\n",
              "       op  hvar  lr  \n",
              "15970  ME    -4   1  \n",
              "15971  GW   -14   1  \n",
              "15972  FR    58   1  \n",
              "15973  CO    38   1  \n",
              "15974  NM    44   1  "
            ]
          },
          "execution_count": 52,
          "metadata": {},
          "output_type": "execute_result"
        }
      ]
    },
    {
      "cell_type": "code",
      "metadata": {
        "id": "sVcmoh5bsuF0",
        "outputId": "599133b2-9700-4267-b912-5e19cdb1a254"
      },
      "source": [
        "right_team.tail()"
      ],
      "execution_count": null,
      "outputs": [
        {
          "data": {
            "text/html": [
              "<div>\n",
              "<style scoped>\n",
              "    .dataframe tbody tr th:only-of-type {\n",
              "        vertical-align: middle;\n",
              "    }\n",
              "\n",
              "    .dataframe tbody tr th {\n",
              "        vertical-align: top;\n",
              "    }\n",
              "\n",
              "    .dataframe thead th {\n",
              "        text-align: right;\n",
              "    }\n",
              "</style>\n",
              "<table border=\"1\" class=\"dataframe\">\n",
              "  <thead>\n",
              "    <tr style=\"text-align: right;\">\n",
              "      <th></th>\n",
              "      <th>year</th>\n",
              "      <th>team1</th>\n",
              "      <th>pts_1</th>\n",
              "      <th>team2</th>\n",
              "      <th>pts_2</th>\n",
              "      <th>venue</th>\n",
              "      <th>t1</th>\n",
              "      <th>t2</th>\n",
              "      <th>hvar</th>\n",
              "      <th>subset_2</th>\n",
              "    </tr>\n",
              "  </thead>\n",
              "  <tbody>\n",
              "    <tr>\n",
              "      <th>15970</th>\n",
              "      <td>2021</td>\n",
              "      <td>Geelong</td>\n",
              "      <td>77</td>\n",
              "      <td>Melbourne</td>\n",
              "      <td>81</td>\n",
              "      <td>Kardinia Park</td>\n",
              "      <td>GE</td>\n",
              "      <td>ME</td>\n",
              "      <td>-4</td>\n",
              "      <td>0</td>\n",
              "    </tr>\n",
              "    <tr>\n",
              "      <th>15971</th>\n",
              "      <td>2021</td>\n",
              "      <td>Carlton</td>\n",
              "      <td>75</td>\n",
              "      <td>GWS Giants</td>\n",
              "      <td>89</td>\n",
              "      <td>Docklands</td>\n",
              "      <td>CA</td>\n",
              "      <td>GW</td>\n",
              "      <td>-14</td>\n",
              "      <td>0</td>\n",
              "    </tr>\n",
              "    <tr>\n",
              "      <th>15972</th>\n",
              "      <td>2021</td>\n",
              "      <td>St Kilda</td>\n",
              "      <td>107</td>\n",
              "      <td>Fremantle</td>\n",
              "      <td>49</td>\n",
              "      <td>Bellerive Oval</td>\n",
              "      <td>SK</td>\n",
              "      <td>FR</td>\n",
              "      <td>58</td>\n",
              "      <td>0</td>\n",
              "    </tr>\n",
              "    <tr>\n",
              "      <th>15973</th>\n",
              "      <td>2021</td>\n",
              "      <td>Essendon</td>\n",
              "      <td>102</td>\n",
              "      <td>Collingwood</td>\n",
              "      <td>64</td>\n",
              "      <td>M.C.G.</td>\n",
              "      <td>ES</td>\n",
              "      <td>CO</td>\n",
              "      <td>38</td>\n",
              "      <td>0</td>\n",
              "    </tr>\n",
              "    <tr>\n",
              "      <th>15974</th>\n",
              "      <td>2021</td>\n",
              "      <td>Adelaide</td>\n",
              "      <td>98</td>\n",
              "      <td>North Melbourne</td>\n",
              "      <td>54</td>\n",
              "      <td>Adelaide Oval</td>\n",
              "      <td>AD</td>\n",
              "      <td>NM</td>\n",
              "      <td>44</td>\n",
              "      <td>0</td>\n",
              "    </tr>\n",
              "  </tbody>\n",
              "</table>\n",
              "</div>"
            ],
            "text/plain": [
              "       year     team1  pts_1            team2  pts_2           venue  t1  t2  \\\n",
              "15970  2021   Geelong     77        Melbourne     81   Kardinia Park  GE  ME   \n",
              "15971  2021   Carlton     75       GWS Giants     89       Docklands  CA  GW   \n",
              "15972  2021  St Kilda    107        Fremantle     49  Bellerive Oval  SK  FR   \n",
              "15973  2021  Essendon    102      Collingwood     64          M.C.G.  ES  CO   \n",
              "15974  2021  Adelaide     98  North Melbourne     54   Adelaide Oval  AD  NM   \n",
              "\n",
              "       hvar  subset_2  \n",
              "15970    -4         0  \n",
              "15971   -14         0  \n",
              "15972    58         0  \n",
              "15973    38         0  \n",
              "15974    44         0  "
            ]
          },
          "execution_count": 53,
          "metadata": {},
          "output_type": "execute_result"
        }
      ]
    },
    {
      "cell_type": "code",
      "metadata": {
        "id": "Q5-prnHMsuF1"
      },
      "source": [
        "right_team.columns = ['year','opp_team','op_pts','team','tm_pts','venue','op','tm','hvar','lr']"
      ],
      "execution_count": null,
      "outputs": []
    },
    {
      "cell_type": "code",
      "metadata": {
        "id": "vcElOW_CsuF1",
        "outputId": "63d1c49e-3483-4b75-e318-17b568a6ce87"
      },
      "source": [
        "right_team.tail()"
      ],
      "execution_count": null,
      "outputs": [
        {
          "data": {
            "text/html": [
              "<div>\n",
              "<style scoped>\n",
              "    .dataframe tbody tr th:only-of-type {\n",
              "        vertical-align: middle;\n",
              "    }\n",
              "\n",
              "    .dataframe tbody tr th {\n",
              "        vertical-align: top;\n",
              "    }\n",
              "\n",
              "    .dataframe thead th {\n",
              "        text-align: right;\n",
              "    }\n",
              "</style>\n",
              "<table border=\"1\" class=\"dataframe\">\n",
              "  <thead>\n",
              "    <tr style=\"text-align: right;\">\n",
              "      <th></th>\n",
              "      <th>year</th>\n",
              "      <th>opp_team</th>\n",
              "      <th>op_pts</th>\n",
              "      <th>team</th>\n",
              "      <th>tm_pts</th>\n",
              "      <th>venue</th>\n",
              "      <th>op</th>\n",
              "      <th>tm</th>\n",
              "      <th>hvar</th>\n",
              "      <th>lr</th>\n",
              "    </tr>\n",
              "  </thead>\n",
              "  <tbody>\n",
              "    <tr>\n",
              "      <th>15970</th>\n",
              "      <td>2021</td>\n",
              "      <td>Geelong</td>\n",
              "      <td>77</td>\n",
              "      <td>Melbourne</td>\n",
              "      <td>81</td>\n",
              "      <td>Kardinia Park</td>\n",
              "      <td>GE</td>\n",
              "      <td>ME</td>\n",
              "      <td>-4</td>\n",
              "      <td>0</td>\n",
              "    </tr>\n",
              "    <tr>\n",
              "      <th>15971</th>\n",
              "      <td>2021</td>\n",
              "      <td>Carlton</td>\n",
              "      <td>75</td>\n",
              "      <td>GWS Giants</td>\n",
              "      <td>89</td>\n",
              "      <td>Docklands</td>\n",
              "      <td>CA</td>\n",
              "      <td>GW</td>\n",
              "      <td>-14</td>\n",
              "      <td>0</td>\n",
              "    </tr>\n",
              "    <tr>\n",
              "      <th>15972</th>\n",
              "      <td>2021</td>\n",
              "      <td>St Kilda</td>\n",
              "      <td>107</td>\n",
              "      <td>Fremantle</td>\n",
              "      <td>49</td>\n",
              "      <td>Bellerive Oval</td>\n",
              "      <td>SK</td>\n",
              "      <td>FR</td>\n",
              "      <td>58</td>\n",
              "      <td>0</td>\n",
              "    </tr>\n",
              "    <tr>\n",
              "      <th>15973</th>\n",
              "      <td>2021</td>\n",
              "      <td>Essendon</td>\n",
              "      <td>102</td>\n",
              "      <td>Collingwood</td>\n",
              "      <td>64</td>\n",
              "      <td>M.C.G.</td>\n",
              "      <td>ES</td>\n",
              "      <td>CO</td>\n",
              "      <td>38</td>\n",
              "      <td>0</td>\n",
              "    </tr>\n",
              "    <tr>\n",
              "      <th>15974</th>\n",
              "      <td>2021</td>\n",
              "      <td>Adelaide</td>\n",
              "      <td>98</td>\n",
              "      <td>North Melbourne</td>\n",
              "      <td>54</td>\n",
              "      <td>Adelaide Oval</td>\n",
              "      <td>AD</td>\n",
              "      <td>NM</td>\n",
              "      <td>44</td>\n",
              "      <td>0</td>\n",
              "    </tr>\n",
              "  </tbody>\n",
              "</table>\n",
              "</div>"
            ],
            "text/plain": [
              "       year  opp_team  op_pts             team  tm_pts           venue  op  \\\n",
              "15970  2021   Geelong      77        Melbourne      81   Kardinia Park  GE   \n",
              "15971  2021   Carlton      75       GWS Giants      89       Docklands  CA   \n",
              "15972  2021  St Kilda     107        Fremantle      49  Bellerive Oval  SK   \n",
              "15973  2021  Essendon     102      Collingwood      64          M.C.G.  ES   \n",
              "15974  2021  Adelaide      98  North Melbourne      54   Adelaide Oval  AD   \n",
              "\n",
              "       tm  hvar  lr  \n",
              "15970  ME    -4   0  \n",
              "15971  GW   -14   0  \n",
              "15972  FR    58   0  \n",
              "15973  CO    38   0  \n",
              "15974  NM    44   0  "
            ]
          },
          "execution_count": 55,
          "metadata": {},
          "output_type": "execute_result"
        }
      ]
    },
    {
      "cell_type": "markdown",
      "metadata": {
        "id": "SxJDEDdJsuF1"
      },
      "source": [
        "### Now re-order the second dframe to match columns"
      ]
    },
    {
      "cell_type": "markdown",
      "metadata": {
        "id": "j4ox2ff7suF1"
      },
      "source": [
        "### Note double brackets to re-order"
      ]
    },
    {
      "cell_type": "code",
      "metadata": {
        "id": "_xQz5HrksuF1",
        "outputId": "84c5f91a-4b86-4e00-e598-da7a81674592"
      },
      "source": [
        "right_team = right_team[['year', 'team','tm_pts','opp_team','op_pts','venue','tm','op','hvar','lr']]\n",
        "right_team.tail()"
      ],
      "execution_count": null,
      "outputs": [
        {
          "data": {
            "text/html": [
              "<div>\n",
              "<style scoped>\n",
              "    .dataframe tbody tr th:only-of-type {\n",
              "        vertical-align: middle;\n",
              "    }\n",
              "\n",
              "    .dataframe tbody tr th {\n",
              "        vertical-align: top;\n",
              "    }\n",
              "\n",
              "    .dataframe thead th {\n",
              "        text-align: right;\n",
              "    }\n",
              "</style>\n",
              "<table border=\"1\" class=\"dataframe\">\n",
              "  <thead>\n",
              "    <tr style=\"text-align: right;\">\n",
              "      <th></th>\n",
              "      <th>year</th>\n",
              "      <th>team</th>\n",
              "      <th>tm_pts</th>\n",
              "      <th>opp_team</th>\n",
              "      <th>op_pts</th>\n",
              "      <th>venue</th>\n",
              "      <th>tm</th>\n",
              "      <th>op</th>\n",
              "      <th>hvar</th>\n",
              "      <th>lr</th>\n",
              "    </tr>\n",
              "  </thead>\n",
              "  <tbody>\n",
              "    <tr>\n",
              "      <th>15970</th>\n",
              "      <td>2021</td>\n",
              "      <td>Melbourne</td>\n",
              "      <td>81</td>\n",
              "      <td>Geelong</td>\n",
              "      <td>77</td>\n",
              "      <td>Kardinia Park</td>\n",
              "      <td>ME</td>\n",
              "      <td>GE</td>\n",
              "      <td>-4</td>\n",
              "      <td>0</td>\n",
              "    </tr>\n",
              "    <tr>\n",
              "      <th>15971</th>\n",
              "      <td>2021</td>\n",
              "      <td>GWS Giants</td>\n",
              "      <td>89</td>\n",
              "      <td>Carlton</td>\n",
              "      <td>75</td>\n",
              "      <td>Docklands</td>\n",
              "      <td>GW</td>\n",
              "      <td>CA</td>\n",
              "      <td>-14</td>\n",
              "      <td>0</td>\n",
              "    </tr>\n",
              "    <tr>\n",
              "      <th>15972</th>\n",
              "      <td>2021</td>\n",
              "      <td>Fremantle</td>\n",
              "      <td>49</td>\n",
              "      <td>St Kilda</td>\n",
              "      <td>107</td>\n",
              "      <td>Bellerive Oval</td>\n",
              "      <td>FR</td>\n",
              "      <td>SK</td>\n",
              "      <td>58</td>\n",
              "      <td>0</td>\n",
              "    </tr>\n",
              "    <tr>\n",
              "      <th>15973</th>\n",
              "      <td>2021</td>\n",
              "      <td>Collingwood</td>\n",
              "      <td>64</td>\n",
              "      <td>Essendon</td>\n",
              "      <td>102</td>\n",
              "      <td>M.C.G.</td>\n",
              "      <td>CO</td>\n",
              "      <td>ES</td>\n",
              "      <td>38</td>\n",
              "      <td>0</td>\n",
              "    </tr>\n",
              "    <tr>\n",
              "      <th>15974</th>\n",
              "      <td>2021</td>\n",
              "      <td>North Melbourne</td>\n",
              "      <td>54</td>\n",
              "      <td>Adelaide</td>\n",
              "      <td>98</td>\n",
              "      <td>Adelaide Oval</td>\n",
              "      <td>NM</td>\n",
              "      <td>AD</td>\n",
              "      <td>44</td>\n",
              "      <td>0</td>\n",
              "    </tr>\n",
              "  </tbody>\n",
              "</table>\n",
              "</div>"
            ],
            "text/plain": [
              "       year             team  tm_pts  opp_team  op_pts           venue  tm  \\\n",
              "15970  2021        Melbourne      81   Geelong      77   Kardinia Park  ME   \n",
              "15971  2021       GWS Giants      89   Carlton      75       Docklands  GW   \n",
              "15972  2021        Fremantle      49  St Kilda     107  Bellerive Oval  FR   \n",
              "15973  2021      Collingwood      64  Essendon     102          M.C.G.  CO   \n",
              "15974  2021  North Melbourne      54  Adelaide      98   Adelaide Oval  NM   \n",
              "\n",
              "       op  hvar  lr  \n",
              "15970  GE    -4   0  \n",
              "15971  CA   -14   0  \n",
              "15972  SK    58   0  \n",
              "15973  ES    38   0  \n",
              "15974  AD    44   0  "
            ]
          },
          "execution_count": 56,
          "metadata": {},
          "output_type": "execute_result"
        }
      ]
    },
    {
      "cell_type": "code",
      "metadata": {
        "id": "DVKXm2Z9suF1",
        "outputId": "7e2c3e23-c36c-4374-c4e3-872913de7a81"
      },
      "source": [
        "left_team.tail()"
      ],
      "execution_count": null,
      "outputs": [
        {
          "data": {
            "text/html": [
              "<div>\n",
              "<style scoped>\n",
              "    .dataframe tbody tr th:only-of-type {\n",
              "        vertical-align: middle;\n",
              "    }\n",
              "\n",
              "    .dataframe tbody tr th {\n",
              "        vertical-align: top;\n",
              "    }\n",
              "\n",
              "    .dataframe thead th {\n",
              "        text-align: right;\n",
              "    }\n",
              "</style>\n",
              "<table border=\"1\" class=\"dataframe\">\n",
              "  <thead>\n",
              "    <tr style=\"text-align: right;\">\n",
              "      <th></th>\n",
              "      <th>year</th>\n",
              "      <th>team</th>\n",
              "      <th>tm_pts</th>\n",
              "      <th>opp_team</th>\n",
              "      <th>op_pts</th>\n",
              "      <th>venue</th>\n",
              "      <th>tm</th>\n",
              "      <th>op</th>\n",
              "      <th>hvar</th>\n",
              "      <th>lr</th>\n",
              "    </tr>\n",
              "  </thead>\n",
              "  <tbody>\n",
              "    <tr>\n",
              "      <th>15970</th>\n",
              "      <td>2021</td>\n",
              "      <td>Geelong</td>\n",
              "      <td>77</td>\n",
              "      <td>Melbourne</td>\n",
              "      <td>81</td>\n",
              "      <td>Kardinia Park</td>\n",
              "      <td>GE</td>\n",
              "      <td>ME</td>\n",
              "      <td>-4</td>\n",
              "      <td>1</td>\n",
              "    </tr>\n",
              "    <tr>\n",
              "      <th>15971</th>\n",
              "      <td>2021</td>\n",
              "      <td>Carlton</td>\n",
              "      <td>75</td>\n",
              "      <td>GWS Giants</td>\n",
              "      <td>89</td>\n",
              "      <td>Docklands</td>\n",
              "      <td>CA</td>\n",
              "      <td>GW</td>\n",
              "      <td>-14</td>\n",
              "      <td>1</td>\n",
              "    </tr>\n",
              "    <tr>\n",
              "      <th>15972</th>\n",
              "      <td>2021</td>\n",
              "      <td>St Kilda</td>\n",
              "      <td>107</td>\n",
              "      <td>Fremantle</td>\n",
              "      <td>49</td>\n",
              "      <td>Bellerive Oval</td>\n",
              "      <td>SK</td>\n",
              "      <td>FR</td>\n",
              "      <td>58</td>\n",
              "      <td>1</td>\n",
              "    </tr>\n",
              "    <tr>\n",
              "      <th>15973</th>\n",
              "      <td>2021</td>\n",
              "      <td>Essendon</td>\n",
              "      <td>102</td>\n",
              "      <td>Collingwood</td>\n",
              "      <td>64</td>\n",
              "      <td>M.C.G.</td>\n",
              "      <td>ES</td>\n",
              "      <td>CO</td>\n",
              "      <td>38</td>\n",
              "      <td>1</td>\n",
              "    </tr>\n",
              "    <tr>\n",
              "      <th>15974</th>\n",
              "      <td>2021</td>\n",
              "      <td>Adelaide</td>\n",
              "      <td>98</td>\n",
              "      <td>North Melbourne</td>\n",
              "      <td>54</td>\n",
              "      <td>Adelaide Oval</td>\n",
              "      <td>AD</td>\n",
              "      <td>NM</td>\n",
              "      <td>44</td>\n",
              "      <td>1</td>\n",
              "    </tr>\n",
              "  </tbody>\n",
              "</table>\n",
              "</div>"
            ],
            "text/plain": [
              "       year      team  tm_pts         opp_team  op_pts           venue  tm  \\\n",
              "15970  2021   Geelong      77        Melbourne      81   Kardinia Park  GE   \n",
              "15971  2021   Carlton      75       GWS Giants      89       Docklands  CA   \n",
              "15972  2021  St Kilda     107        Fremantle      49  Bellerive Oval  SK   \n",
              "15973  2021  Essendon     102      Collingwood      64          M.C.G.  ES   \n",
              "15974  2021  Adelaide      98  North Melbourne      54   Adelaide Oval  AD   \n",
              "\n",
              "       op  hvar  lr  \n",
              "15970  ME    -4   1  \n",
              "15971  GW   -14   1  \n",
              "15972  FR    58   1  \n",
              "15973  CO    38   1  \n",
              "15974  NM    44   1  "
            ]
          },
          "execution_count": 57,
          "metadata": {},
          "output_type": "execute_result"
        }
      ]
    },
    {
      "cell_type": "markdown",
      "metadata": {
        "id": "WIgCFR_MsuF1"
      },
      "source": [
        "## CONCATENATION"
      ]
    },
    {
      "cell_type": "markdown",
      "metadata": {
        "id": "610En_QEsuF2"
      },
      "source": [
        "### Now very easily, can concatenate the two dframes"
      ]
    },
    {
      "cell_type": "code",
      "metadata": {
        "id": "YYZQNfFmsuF2",
        "outputId": "e1d6f30f-4f41-4d57-817a-32cd8172ec5c"
      },
      "source": [
        "merge_ft = pd.concat([left_team, right_team], axis=0)\n",
        "merge_ft.head()"
      ],
      "execution_count": null,
      "outputs": [
        {
          "data": {
            "text/html": [
              "<div>\n",
              "<style scoped>\n",
              "    .dataframe tbody tr th:only-of-type {\n",
              "        vertical-align: middle;\n",
              "    }\n",
              "\n",
              "    .dataframe tbody tr th {\n",
              "        vertical-align: top;\n",
              "    }\n",
              "\n",
              "    .dataframe thead th {\n",
              "        text-align: right;\n",
              "    }\n",
              "</style>\n",
              "<table border=\"1\" class=\"dataframe\">\n",
              "  <thead>\n",
              "    <tr style=\"text-align: right;\">\n",
              "      <th></th>\n",
              "      <th>year</th>\n",
              "      <th>team</th>\n",
              "      <th>tm_pts</th>\n",
              "      <th>opp_team</th>\n",
              "      <th>op_pts</th>\n",
              "      <th>venue</th>\n",
              "      <th>tm</th>\n",
              "      <th>op</th>\n",
              "      <th>hvar</th>\n",
              "      <th>lr</th>\n",
              "    </tr>\n",
              "  </thead>\n",
              "  <tbody>\n",
              "    <tr>\n",
              "      <th>1</th>\n",
              "      <td>1897</td>\n",
              "      <td>Fitzroy</td>\n",
              "      <td>49</td>\n",
              "      <td>Carlton</td>\n",
              "      <td>16</td>\n",
              "      <td>Brunswick St</td>\n",
              "      <td>FI</td>\n",
              "      <td>CA</td>\n",
              "      <td>33</td>\n",
              "      <td>1</td>\n",
              "    </tr>\n",
              "    <tr>\n",
              "      <th>2</th>\n",
              "      <td>1897</td>\n",
              "      <td>Collingwood</td>\n",
              "      <td>41</td>\n",
              "      <td>St Kilda</td>\n",
              "      <td>16</td>\n",
              "      <td>Victoria Park</td>\n",
              "      <td>CO</td>\n",
              "      <td>SK</td>\n",
              "      <td>25</td>\n",
              "      <td>1</td>\n",
              "    </tr>\n",
              "    <tr>\n",
              "      <th>3</th>\n",
              "      <td>1897</td>\n",
              "      <td>Geelong</td>\n",
              "      <td>24</td>\n",
              "      <td>Essendon</td>\n",
              "      <td>47</td>\n",
              "      <td>Corio Oval</td>\n",
              "      <td>GE</td>\n",
              "      <td>ES</td>\n",
              "      <td>-23</td>\n",
              "      <td>1</td>\n",
              "    </tr>\n",
              "    <tr>\n",
              "      <th>4</th>\n",
              "      <td>1897</td>\n",
              "      <td>South Melbourne</td>\n",
              "      <td>27</td>\n",
              "      <td>Melbourne</td>\n",
              "      <td>44</td>\n",
              "      <td>Lake Oval</td>\n",
              "      <td>SM</td>\n",
              "      <td>ME</td>\n",
              "      <td>-17</td>\n",
              "      <td>1</td>\n",
              "    </tr>\n",
              "    <tr>\n",
              "      <th>5</th>\n",
              "      <td>1897</td>\n",
              "      <td>South Melbourne</td>\n",
              "      <td>40</td>\n",
              "      <td>Carlton</td>\n",
              "      <td>36</td>\n",
              "      <td>Lake Oval</td>\n",
              "      <td>SM</td>\n",
              "      <td>CA</td>\n",
              "      <td>4</td>\n",
              "      <td>1</td>\n",
              "    </tr>\n",
              "  </tbody>\n",
              "</table>\n",
              "</div>"
            ],
            "text/plain": [
              "   year             team  tm_pts   opp_team  op_pts          venue  tm  op  \\\n",
              "1  1897          Fitzroy      49    Carlton      16   Brunswick St  FI  CA   \n",
              "2  1897      Collingwood      41   St Kilda      16  Victoria Park  CO  SK   \n",
              "3  1897          Geelong      24   Essendon      47     Corio Oval  GE  ES   \n",
              "4  1897  South Melbourne      27  Melbourne      44      Lake Oval  SM  ME   \n",
              "5  1897  South Melbourne      40    Carlton      36      Lake Oval  SM  CA   \n",
              "\n",
              "   hvar  lr  \n",
              "1    33   1  \n",
              "2    25   1  \n",
              "3   -23   1  \n",
              "4   -17   1  \n",
              "5     4   1  "
            ]
          },
          "execution_count": 58,
          "metadata": {},
          "output_type": "execute_result"
        }
      ]
    },
    {
      "cell_type": "code",
      "metadata": {
        "id": "FxnQMi56suF2",
        "outputId": "eaca6fbc-d011-4274-9041-f0f66e12efa2"
      },
      "source": [
        "merge_ft.shape"
      ],
      "execution_count": null,
      "outputs": [
        {
          "data": {
            "text/plain": [
              "(31948, 10)"
            ]
          },
          "execution_count": 59,
          "metadata": {},
          "output_type": "execute_result"
        }
      ]
    },
    {
      "cell_type": "code",
      "metadata": {
        "id": "7VIotl3UsuF2",
        "outputId": "2696c877-576d-4f23-9fda-7f02df97100e"
      },
      "source": [
        "merge_ft.tail()"
      ],
      "execution_count": null,
      "outputs": [
        {
          "data": {
            "text/html": [
              "<div>\n",
              "<style scoped>\n",
              "    .dataframe tbody tr th:only-of-type {\n",
              "        vertical-align: middle;\n",
              "    }\n",
              "\n",
              "    .dataframe tbody tr th {\n",
              "        vertical-align: top;\n",
              "    }\n",
              "\n",
              "    .dataframe thead th {\n",
              "        text-align: right;\n",
              "    }\n",
              "</style>\n",
              "<table border=\"1\" class=\"dataframe\">\n",
              "  <thead>\n",
              "    <tr style=\"text-align: right;\">\n",
              "      <th></th>\n",
              "      <th>year</th>\n",
              "      <th>team</th>\n",
              "      <th>tm_pts</th>\n",
              "      <th>opp_team</th>\n",
              "      <th>op_pts</th>\n",
              "      <th>venue</th>\n",
              "      <th>tm</th>\n",
              "      <th>op</th>\n",
              "      <th>hvar</th>\n",
              "      <th>lr</th>\n",
              "    </tr>\n",
              "  </thead>\n",
              "  <tbody>\n",
              "    <tr>\n",
              "      <th>15970</th>\n",
              "      <td>2021</td>\n",
              "      <td>Melbourne</td>\n",
              "      <td>81</td>\n",
              "      <td>Geelong</td>\n",
              "      <td>77</td>\n",
              "      <td>Kardinia Park</td>\n",
              "      <td>ME</td>\n",
              "      <td>GE</td>\n",
              "      <td>-4</td>\n",
              "      <td>0</td>\n",
              "    </tr>\n",
              "    <tr>\n",
              "      <th>15971</th>\n",
              "      <td>2021</td>\n",
              "      <td>GWS Giants</td>\n",
              "      <td>89</td>\n",
              "      <td>Carlton</td>\n",
              "      <td>75</td>\n",
              "      <td>Docklands</td>\n",
              "      <td>GW</td>\n",
              "      <td>CA</td>\n",
              "      <td>-14</td>\n",
              "      <td>0</td>\n",
              "    </tr>\n",
              "    <tr>\n",
              "      <th>15972</th>\n",
              "      <td>2021</td>\n",
              "      <td>Fremantle</td>\n",
              "      <td>49</td>\n",
              "      <td>St Kilda</td>\n",
              "      <td>107</td>\n",
              "      <td>Bellerive Oval</td>\n",
              "      <td>FR</td>\n",
              "      <td>SK</td>\n",
              "      <td>58</td>\n",
              "      <td>0</td>\n",
              "    </tr>\n",
              "    <tr>\n",
              "      <th>15973</th>\n",
              "      <td>2021</td>\n",
              "      <td>Collingwood</td>\n",
              "      <td>64</td>\n",
              "      <td>Essendon</td>\n",
              "      <td>102</td>\n",
              "      <td>M.C.G.</td>\n",
              "      <td>CO</td>\n",
              "      <td>ES</td>\n",
              "      <td>38</td>\n",
              "      <td>0</td>\n",
              "    </tr>\n",
              "    <tr>\n",
              "      <th>15974</th>\n",
              "      <td>2021</td>\n",
              "      <td>North Melbourne</td>\n",
              "      <td>54</td>\n",
              "      <td>Adelaide</td>\n",
              "      <td>98</td>\n",
              "      <td>Adelaide Oval</td>\n",
              "      <td>NM</td>\n",
              "      <td>AD</td>\n",
              "      <td>44</td>\n",
              "      <td>0</td>\n",
              "    </tr>\n",
              "  </tbody>\n",
              "</table>\n",
              "</div>"
            ],
            "text/plain": [
              "       year             team  tm_pts  opp_team  op_pts           venue  tm  \\\n",
              "15970  2021        Melbourne      81   Geelong      77   Kardinia Park  ME   \n",
              "15971  2021       GWS Giants      89   Carlton      75       Docklands  GW   \n",
              "15972  2021        Fremantle      49  St Kilda     107  Bellerive Oval  FR   \n",
              "15973  2021      Collingwood      64  Essendon     102          M.C.G.  CO   \n",
              "15974  2021  North Melbourne      54  Adelaide      98   Adelaide Oval  NM   \n",
              "\n",
              "       op  hvar  lr  \n",
              "15970  GE    -4   0  \n",
              "15971  CA   -14   0  \n",
              "15972  SK    58   0  \n",
              "15973  ES    38   0  \n",
              "15974  AD    44   0  "
            ]
          },
          "execution_count": 60,
          "metadata": {},
          "output_type": "execute_result"
        }
      ]
    },
    {
      "cell_type": "code",
      "metadata": {
        "id": "FyTnBQ0WsuF3",
        "outputId": "4146471a-64a0-4c00-8f27-9bc1a0b3b243"
      },
      "source": [
        "merge_ft.sort_index(inplace=True)\n",
        "merge_ft.head(10)"
      ],
      "execution_count": null,
      "outputs": [
        {
          "data": {
            "text/html": [
              "<div>\n",
              "<style scoped>\n",
              "    .dataframe tbody tr th:only-of-type {\n",
              "        vertical-align: middle;\n",
              "    }\n",
              "\n",
              "    .dataframe tbody tr th {\n",
              "        vertical-align: top;\n",
              "    }\n",
              "\n",
              "    .dataframe thead th {\n",
              "        text-align: right;\n",
              "    }\n",
              "</style>\n",
              "<table border=\"1\" class=\"dataframe\">\n",
              "  <thead>\n",
              "    <tr style=\"text-align: right;\">\n",
              "      <th></th>\n",
              "      <th>year</th>\n",
              "      <th>team</th>\n",
              "      <th>tm_pts</th>\n",
              "      <th>opp_team</th>\n",
              "      <th>op_pts</th>\n",
              "      <th>venue</th>\n",
              "      <th>tm</th>\n",
              "      <th>op</th>\n",
              "      <th>hvar</th>\n",
              "      <th>lr</th>\n",
              "    </tr>\n",
              "  </thead>\n",
              "  <tbody>\n",
              "    <tr>\n",
              "      <th>1</th>\n",
              "      <td>1897</td>\n",
              "      <td>Fitzroy</td>\n",
              "      <td>49</td>\n",
              "      <td>Carlton</td>\n",
              "      <td>16</td>\n",
              "      <td>Brunswick St</td>\n",
              "      <td>FI</td>\n",
              "      <td>CA</td>\n",
              "      <td>33</td>\n",
              "      <td>1</td>\n",
              "    </tr>\n",
              "    <tr>\n",
              "      <th>1</th>\n",
              "      <td>1897</td>\n",
              "      <td>Carlton</td>\n",
              "      <td>16</td>\n",
              "      <td>Fitzroy</td>\n",
              "      <td>49</td>\n",
              "      <td>Brunswick St</td>\n",
              "      <td>CA</td>\n",
              "      <td>FI</td>\n",
              "      <td>33</td>\n",
              "      <td>0</td>\n",
              "    </tr>\n",
              "    <tr>\n",
              "      <th>2</th>\n",
              "      <td>1897</td>\n",
              "      <td>Collingwood</td>\n",
              "      <td>41</td>\n",
              "      <td>St Kilda</td>\n",
              "      <td>16</td>\n",
              "      <td>Victoria Park</td>\n",
              "      <td>CO</td>\n",
              "      <td>SK</td>\n",
              "      <td>25</td>\n",
              "      <td>1</td>\n",
              "    </tr>\n",
              "    <tr>\n",
              "      <th>2</th>\n",
              "      <td>1897</td>\n",
              "      <td>St Kilda</td>\n",
              "      <td>16</td>\n",
              "      <td>Collingwood</td>\n",
              "      <td>41</td>\n",
              "      <td>Victoria Park</td>\n",
              "      <td>SK</td>\n",
              "      <td>CO</td>\n",
              "      <td>25</td>\n",
              "      <td>0</td>\n",
              "    </tr>\n",
              "    <tr>\n",
              "      <th>3</th>\n",
              "      <td>1897</td>\n",
              "      <td>Geelong</td>\n",
              "      <td>24</td>\n",
              "      <td>Essendon</td>\n",
              "      <td>47</td>\n",
              "      <td>Corio Oval</td>\n",
              "      <td>GE</td>\n",
              "      <td>ES</td>\n",
              "      <td>-23</td>\n",
              "      <td>1</td>\n",
              "    </tr>\n",
              "    <tr>\n",
              "      <th>3</th>\n",
              "      <td>1897</td>\n",
              "      <td>Essendon</td>\n",
              "      <td>47</td>\n",
              "      <td>Geelong</td>\n",
              "      <td>24</td>\n",
              "      <td>Corio Oval</td>\n",
              "      <td>ES</td>\n",
              "      <td>GE</td>\n",
              "      <td>-23</td>\n",
              "      <td>0</td>\n",
              "    </tr>\n",
              "    <tr>\n",
              "      <th>4</th>\n",
              "      <td>1897</td>\n",
              "      <td>South Melbourne</td>\n",
              "      <td>27</td>\n",
              "      <td>Melbourne</td>\n",
              "      <td>44</td>\n",
              "      <td>Lake Oval</td>\n",
              "      <td>SM</td>\n",
              "      <td>ME</td>\n",
              "      <td>-17</td>\n",
              "      <td>1</td>\n",
              "    </tr>\n",
              "    <tr>\n",
              "      <th>4</th>\n",
              "      <td>1897</td>\n",
              "      <td>Melbourne</td>\n",
              "      <td>44</td>\n",
              "      <td>South Melbourne</td>\n",
              "      <td>27</td>\n",
              "      <td>Lake Oval</td>\n",
              "      <td>ME</td>\n",
              "      <td>SM</td>\n",
              "      <td>-17</td>\n",
              "      <td>0</td>\n",
              "    </tr>\n",
              "    <tr>\n",
              "      <th>5</th>\n",
              "      <td>1897</td>\n",
              "      <td>South Melbourne</td>\n",
              "      <td>40</td>\n",
              "      <td>Carlton</td>\n",
              "      <td>36</td>\n",
              "      <td>Lake Oval</td>\n",
              "      <td>SM</td>\n",
              "      <td>CA</td>\n",
              "      <td>4</td>\n",
              "      <td>1</td>\n",
              "    </tr>\n",
              "    <tr>\n",
              "      <th>5</th>\n",
              "      <td>1897</td>\n",
              "      <td>Carlton</td>\n",
              "      <td>36</td>\n",
              "      <td>South Melbourne</td>\n",
              "      <td>40</td>\n",
              "      <td>Lake Oval</td>\n",
              "      <td>CA</td>\n",
              "      <td>SM</td>\n",
              "      <td>4</td>\n",
              "      <td>0</td>\n",
              "    </tr>\n",
              "  </tbody>\n",
              "</table>\n",
              "</div>"
            ],
            "text/plain": [
              "   year             team  tm_pts         opp_team  op_pts          venue  tm  \\\n",
              "1  1897          Fitzroy      49          Carlton      16   Brunswick St  FI   \n",
              "1  1897          Carlton      16          Fitzroy      49   Brunswick St  CA   \n",
              "2  1897      Collingwood      41         St Kilda      16  Victoria Park  CO   \n",
              "2  1897         St Kilda      16      Collingwood      41  Victoria Park  SK   \n",
              "3  1897          Geelong      24         Essendon      47     Corio Oval  GE   \n",
              "3  1897         Essendon      47          Geelong      24     Corio Oval  ES   \n",
              "4  1897  South Melbourne      27        Melbourne      44      Lake Oval  SM   \n",
              "4  1897        Melbourne      44  South Melbourne      27      Lake Oval  ME   \n",
              "5  1897  South Melbourne      40          Carlton      36      Lake Oval  SM   \n",
              "5  1897          Carlton      36  South Melbourne      40      Lake Oval  CA   \n",
              "\n",
              "   op  hvar  lr  \n",
              "1  CA    33   1  \n",
              "1  FI    33   0  \n",
              "2  SK    25   1  \n",
              "2  CO    25   0  \n",
              "3  ES   -23   1  \n",
              "3  GE   -23   0  \n",
              "4  ME   -17   1  \n",
              "4  SM   -17   0  \n",
              "5  CA     4   1  \n",
              "5  SM     4   0  "
            ]
          },
          "execution_count": 61,
          "metadata": {},
          "output_type": "execute_result"
        }
      ]
    },
    {
      "cell_type": "markdown",
      "metadata": {
        "id": "MEHioPPisuF3"
      },
      "source": [
        "## Create team result column"
      ]
    },
    {
      "cell_type": "code",
      "metadata": {
        "id": "Ek-qrMlMsuF3"
      },
      "source": [
        "def neg_hvar(hvar):\n",
        "        return -1*hvar"
      ],
      "execution_count": null,
      "outputs": []
    },
    {
      "cell_type": "code",
      "metadata": {
        "id": "OcZ3V8RlsuF3"
      },
      "source": [
        "merge_ft[\"neg_dummy\"] = merge_ft['hvar'].apply(neg_hvar)"
      ],
      "execution_count": null,
      "outputs": []
    },
    {
      "cell_type": "code",
      "metadata": {
        "id": "y66LSr6osuF3",
        "outputId": "9369b132-4360-4075-9cce-210384fc24d8"
      },
      "source": [
        "merge_ft.tail()"
      ],
      "execution_count": null,
      "outputs": [
        {
          "data": {
            "text/html": [
              "<div>\n",
              "<style scoped>\n",
              "    .dataframe tbody tr th:only-of-type {\n",
              "        vertical-align: middle;\n",
              "    }\n",
              "\n",
              "    .dataframe tbody tr th {\n",
              "        vertical-align: top;\n",
              "    }\n",
              "\n",
              "    .dataframe thead th {\n",
              "        text-align: right;\n",
              "    }\n",
              "</style>\n",
              "<table border=\"1\" class=\"dataframe\">\n",
              "  <thead>\n",
              "    <tr style=\"text-align: right;\">\n",
              "      <th></th>\n",
              "      <th>year</th>\n",
              "      <th>team</th>\n",
              "      <th>tm_pts</th>\n",
              "      <th>opp_team</th>\n",
              "      <th>op_pts</th>\n",
              "      <th>venue</th>\n",
              "      <th>tm</th>\n",
              "      <th>op</th>\n",
              "      <th>hvar</th>\n",
              "      <th>lr</th>\n",
              "      <th>neg_dummy</th>\n",
              "    </tr>\n",
              "  </thead>\n",
              "  <tbody>\n",
              "    <tr>\n",
              "      <th>15972</th>\n",
              "      <td>2021</td>\n",
              "      <td>St Kilda</td>\n",
              "      <td>107</td>\n",
              "      <td>Fremantle</td>\n",
              "      <td>49</td>\n",
              "      <td>Bellerive Oval</td>\n",
              "      <td>SK</td>\n",
              "      <td>FR</td>\n",
              "      <td>58</td>\n",
              "      <td>1</td>\n",
              "      <td>-58</td>\n",
              "    </tr>\n",
              "    <tr>\n",
              "      <th>15973</th>\n",
              "      <td>2021</td>\n",
              "      <td>Collingwood</td>\n",
              "      <td>64</td>\n",
              "      <td>Essendon</td>\n",
              "      <td>102</td>\n",
              "      <td>M.C.G.</td>\n",
              "      <td>CO</td>\n",
              "      <td>ES</td>\n",
              "      <td>38</td>\n",
              "      <td>0</td>\n",
              "      <td>-38</td>\n",
              "    </tr>\n",
              "    <tr>\n",
              "      <th>15973</th>\n",
              "      <td>2021</td>\n",
              "      <td>Essendon</td>\n",
              "      <td>102</td>\n",
              "      <td>Collingwood</td>\n",
              "      <td>64</td>\n",
              "      <td>M.C.G.</td>\n",
              "      <td>ES</td>\n",
              "      <td>CO</td>\n",
              "      <td>38</td>\n",
              "      <td>1</td>\n",
              "      <td>-38</td>\n",
              "    </tr>\n",
              "    <tr>\n",
              "      <th>15974</th>\n",
              "      <td>2021</td>\n",
              "      <td>Adelaide</td>\n",
              "      <td>98</td>\n",
              "      <td>North Melbourne</td>\n",
              "      <td>54</td>\n",
              "      <td>Adelaide Oval</td>\n",
              "      <td>AD</td>\n",
              "      <td>NM</td>\n",
              "      <td>44</td>\n",
              "      <td>1</td>\n",
              "      <td>-44</td>\n",
              "    </tr>\n",
              "    <tr>\n",
              "      <th>15974</th>\n",
              "      <td>2021</td>\n",
              "      <td>North Melbourne</td>\n",
              "      <td>54</td>\n",
              "      <td>Adelaide</td>\n",
              "      <td>98</td>\n",
              "      <td>Adelaide Oval</td>\n",
              "      <td>NM</td>\n",
              "      <td>AD</td>\n",
              "      <td>44</td>\n",
              "      <td>0</td>\n",
              "      <td>-44</td>\n",
              "    </tr>\n",
              "  </tbody>\n",
              "</table>\n",
              "</div>"
            ],
            "text/plain": [
              "       year             team  tm_pts         opp_team  op_pts           venue  \\\n",
              "15972  2021         St Kilda     107        Fremantle      49  Bellerive Oval   \n",
              "15973  2021      Collingwood      64         Essendon     102          M.C.G.   \n",
              "15973  2021         Essendon     102      Collingwood      64          M.C.G.   \n",
              "15974  2021         Adelaide      98  North Melbourne      54   Adelaide Oval   \n",
              "15974  2021  North Melbourne      54         Adelaide      98   Adelaide Oval   \n",
              "\n",
              "       tm  op  hvar  lr  neg_dummy  \n",
              "15972  SK  FR    58   1        -58  \n",
              "15973  CO  ES    38   0        -38  \n",
              "15973  ES  CO    38   1        -38  \n",
              "15974  AD  NM    44   1        -44  \n",
              "15974  NM  AD    44   0        -44  "
            ]
          },
          "execution_count": 64,
          "metadata": {},
          "output_type": "execute_result"
        }
      ]
    },
    {
      "cell_type": "code",
      "metadata": {
        "id": "qs-5Qw-FsuF3"
      },
      "source": [
        "def team_var(hvar):\n",
        "    if merge_ft['lr'] == 1:\n",
        "        return hvar\n",
        "    else: return neg_dummy"
      ],
      "execution_count": null,
      "outputs": []
    },
    {
      "cell_type": "code",
      "metadata": {
        "id": "3ry1-WtrsuF3"
      },
      "source": [
        "def new_lr(lr):\n",
        "    if lr == 0:\n",
        "        return -1\n",
        "    else: return 1"
      ],
      "execution_count": null,
      "outputs": []
    },
    {
      "cell_type": "code",
      "metadata": {
        "id": "BPiGBkszsuF4"
      },
      "source": [
        "merge_ft[\"new_lr\"] = merge_ft['lr'].apply(new_lr)\n",
        "merge_ft[\"tm_var\"] = merge_ft['new_lr']*merge_ft['hvar']"
      ],
      "execution_count": null,
      "outputs": []
    },
    {
      "cell_type": "code",
      "metadata": {
        "id": "kVXPsArzsuF4",
        "outputId": "8e62d267-0b2c-430d-9a0c-4eb92f812bf7"
      },
      "source": [
        "merge_ft.tail()"
      ],
      "execution_count": null,
      "outputs": [
        {
          "data": {
            "text/html": [
              "<div>\n",
              "<style scoped>\n",
              "    .dataframe tbody tr th:only-of-type {\n",
              "        vertical-align: middle;\n",
              "    }\n",
              "\n",
              "    .dataframe tbody tr th {\n",
              "        vertical-align: top;\n",
              "    }\n",
              "\n",
              "    .dataframe thead th {\n",
              "        text-align: right;\n",
              "    }\n",
              "</style>\n",
              "<table border=\"1\" class=\"dataframe\">\n",
              "  <thead>\n",
              "    <tr style=\"text-align: right;\">\n",
              "      <th></th>\n",
              "      <th>year</th>\n",
              "      <th>team</th>\n",
              "      <th>tm_pts</th>\n",
              "      <th>opp_team</th>\n",
              "      <th>op_pts</th>\n",
              "      <th>venue</th>\n",
              "      <th>tm</th>\n",
              "      <th>op</th>\n",
              "      <th>hvar</th>\n",
              "      <th>lr</th>\n",
              "      <th>neg_dummy</th>\n",
              "      <th>new_lr</th>\n",
              "      <th>tm_var</th>\n",
              "    </tr>\n",
              "  </thead>\n",
              "  <tbody>\n",
              "    <tr>\n",
              "      <th>15972</th>\n",
              "      <td>2021</td>\n",
              "      <td>St Kilda</td>\n",
              "      <td>107</td>\n",
              "      <td>Fremantle</td>\n",
              "      <td>49</td>\n",
              "      <td>Bellerive Oval</td>\n",
              "      <td>SK</td>\n",
              "      <td>FR</td>\n",
              "      <td>58</td>\n",
              "      <td>1</td>\n",
              "      <td>-58</td>\n",
              "      <td>1</td>\n",
              "      <td>58</td>\n",
              "    </tr>\n",
              "    <tr>\n",
              "      <th>15973</th>\n",
              "      <td>2021</td>\n",
              "      <td>Collingwood</td>\n",
              "      <td>64</td>\n",
              "      <td>Essendon</td>\n",
              "      <td>102</td>\n",
              "      <td>M.C.G.</td>\n",
              "      <td>CO</td>\n",
              "      <td>ES</td>\n",
              "      <td>38</td>\n",
              "      <td>0</td>\n",
              "      <td>-38</td>\n",
              "      <td>-1</td>\n",
              "      <td>-38</td>\n",
              "    </tr>\n",
              "    <tr>\n",
              "      <th>15973</th>\n",
              "      <td>2021</td>\n",
              "      <td>Essendon</td>\n",
              "      <td>102</td>\n",
              "      <td>Collingwood</td>\n",
              "      <td>64</td>\n",
              "      <td>M.C.G.</td>\n",
              "      <td>ES</td>\n",
              "      <td>CO</td>\n",
              "      <td>38</td>\n",
              "      <td>1</td>\n",
              "      <td>-38</td>\n",
              "      <td>1</td>\n",
              "      <td>38</td>\n",
              "    </tr>\n",
              "    <tr>\n",
              "      <th>15974</th>\n",
              "      <td>2021</td>\n",
              "      <td>Adelaide</td>\n",
              "      <td>98</td>\n",
              "      <td>North Melbourne</td>\n",
              "      <td>54</td>\n",
              "      <td>Adelaide Oval</td>\n",
              "      <td>AD</td>\n",
              "      <td>NM</td>\n",
              "      <td>44</td>\n",
              "      <td>1</td>\n",
              "      <td>-44</td>\n",
              "      <td>1</td>\n",
              "      <td>44</td>\n",
              "    </tr>\n",
              "    <tr>\n",
              "      <th>15974</th>\n",
              "      <td>2021</td>\n",
              "      <td>North Melbourne</td>\n",
              "      <td>54</td>\n",
              "      <td>Adelaide</td>\n",
              "      <td>98</td>\n",
              "      <td>Adelaide Oval</td>\n",
              "      <td>NM</td>\n",
              "      <td>AD</td>\n",
              "      <td>44</td>\n",
              "      <td>0</td>\n",
              "      <td>-44</td>\n",
              "      <td>-1</td>\n",
              "      <td>-44</td>\n",
              "    </tr>\n",
              "  </tbody>\n",
              "</table>\n",
              "</div>"
            ],
            "text/plain": [
              "       year             team  tm_pts         opp_team  op_pts           venue  \\\n",
              "15972  2021         St Kilda     107        Fremantle      49  Bellerive Oval   \n",
              "15973  2021      Collingwood      64         Essendon     102          M.C.G.   \n",
              "15973  2021         Essendon     102      Collingwood      64          M.C.G.   \n",
              "15974  2021         Adelaide      98  North Melbourne      54   Adelaide Oval   \n",
              "15974  2021  North Melbourne      54         Adelaide      98   Adelaide Oval   \n",
              "\n",
              "       tm  op  hvar  lr  neg_dummy  new_lr  tm_var  \n",
              "15972  SK  FR    58   1        -58       1      58  \n",
              "15973  CO  ES    38   0        -38      -1     -38  \n",
              "15973  ES  CO    38   1        -38       1      38  \n",
              "15974  AD  NM    44   1        -44       1      44  \n",
              "15974  NM  AD    44   0        -44      -1     -44  "
            ]
          },
          "execution_count": 68,
          "metadata": {},
          "output_type": "execute_result"
        }
      ]
    },
    {
      "cell_type": "markdown",
      "metadata": {
        "id": "hNkv7CdosuF4"
      },
      "source": [
        "### Can now remove the columns new_lr and neg_dummy, which were used to create tm_var"
      ]
    },
    {
      "cell_type": "code",
      "metadata": {
        "id": "Hhqf4vk1suF4"
      },
      "source": [
        "merge_ft = merge_ft.drop(['neg_dummy', 'new_lr'], axis=1)"
      ],
      "execution_count": null,
      "outputs": []
    },
    {
      "cell_type": "code",
      "metadata": {
        "id": "f0zaeHftsuF4",
        "outputId": "210afad9-ad22-412b-c182-5f2c7d3376eb"
      },
      "source": [
        "merge_ft.head()"
      ],
      "execution_count": null,
      "outputs": [
        {
          "data": {
            "text/html": [
              "<div>\n",
              "<style scoped>\n",
              "    .dataframe tbody tr th:only-of-type {\n",
              "        vertical-align: middle;\n",
              "    }\n",
              "\n",
              "    .dataframe tbody tr th {\n",
              "        vertical-align: top;\n",
              "    }\n",
              "\n",
              "    .dataframe thead th {\n",
              "        text-align: right;\n",
              "    }\n",
              "</style>\n",
              "<table border=\"1\" class=\"dataframe\">\n",
              "  <thead>\n",
              "    <tr style=\"text-align: right;\">\n",
              "      <th></th>\n",
              "      <th>year</th>\n",
              "      <th>team</th>\n",
              "      <th>tm_pts</th>\n",
              "      <th>opp_team</th>\n",
              "      <th>op_pts</th>\n",
              "      <th>venue</th>\n",
              "      <th>tm</th>\n",
              "      <th>op</th>\n",
              "      <th>hvar</th>\n",
              "      <th>lr</th>\n",
              "      <th>tm_var</th>\n",
              "    </tr>\n",
              "  </thead>\n",
              "  <tbody>\n",
              "    <tr>\n",
              "      <th>1</th>\n",
              "      <td>1897</td>\n",
              "      <td>Fitzroy</td>\n",
              "      <td>49</td>\n",
              "      <td>Carlton</td>\n",
              "      <td>16</td>\n",
              "      <td>Brunswick St</td>\n",
              "      <td>FI</td>\n",
              "      <td>CA</td>\n",
              "      <td>33</td>\n",
              "      <td>1</td>\n",
              "      <td>33</td>\n",
              "    </tr>\n",
              "    <tr>\n",
              "      <th>1</th>\n",
              "      <td>1897</td>\n",
              "      <td>Carlton</td>\n",
              "      <td>16</td>\n",
              "      <td>Fitzroy</td>\n",
              "      <td>49</td>\n",
              "      <td>Brunswick St</td>\n",
              "      <td>CA</td>\n",
              "      <td>FI</td>\n",
              "      <td>33</td>\n",
              "      <td>0</td>\n",
              "      <td>-33</td>\n",
              "    </tr>\n",
              "    <tr>\n",
              "      <th>2</th>\n",
              "      <td>1897</td>\n",
              "      <td>Collingwood</td>\n",
              "      <td>41</td>\n",
              "      <td>St Kilda</td>\n",
              "      <td>16</td>\n",
              "      <td>Victoria Park</td>\n",
              "      <td>CO</td>\n",
              "      <td>SK</td>\n",
              "      <td>25</td>\n",
              "      <td>1</td>\n",
              "      <td>25</td>\n",
              "    </tr>\n",
              "    <tr>\n",
              "      <th>2</th>\n",
              "      <td>1897</td>\n",
              "      <td>St Kilda</td>\n",
              "      <td>16</td>\n",
              "      <td>Collingwood</td>\n",
              "      <td>41</td>\n",
              "      <td>Victoria Park</td>\n",
              "      <td>SK</td>\n",
              "      <td>CO</td>\n",
              "      <td>25</td>\n",
              "      <td>0</td>\n",
              "      <td>-25</td>\n",
              "    </tr>\n",
              "    <tr>\n",
              "      <th>3</th>\n",
              "      <td>1897</td>\n",
              "      <td>Geelong</td>\n",
              "      <td>24</td>\n",
              "      <td>Essendon</td>\n",
              "      <td>47</td>\n",
              "      <td>Corio Oval</td>\n",
              "      <td>GE</td>\n",
              "      <td>ES</td>\n",
              "      <td>-23</td>\n",
              "      <td>1</td>\n",
              "      <td>-23</td>\n",
              "    </tr>\n",
              "  </tbody>\n",
              "</table>\n",
              "</div>"
            ],
            "text/plain": [
              "   year         team  tm_pts     opp_team  op_pts          venue  tm  op  \\\n",
              "1  1897      Fitzroy      49      Carlton      16   Brunswick St  FI  CA   \n",
              "1  1897      Carlton      16      Fitzroy      49   Brunswick St  CA  FI   \n",
              "2  1897  Collingwood      41     St Kilda      16  Victoria Park  CO  SK   \n",
              "2  1897     St Kilda      16  Collingwood      41  Victoria Park  SK  CO   \n",
              "3  1897      Geelong      24     Essendon      47     Corio Oval  GE  ES   \n",
              "\n",
              "   hvar  lr  tm_var  \n",
              "1    33   1      33  \n",
              "1    33   0     -33  \n",
              "2    25   1      25  \n",
              "2    25   0     -25  \n",
              "3   -23   1     -23  "
            ]
          },
          "execution_count": 70,
          "metadata": {},
          "output_type": "execute_result"
        }
      ]
    },
    {
      "cell_type": "markdown",
      "metadata": {
        "id": "BiuTV1ajsuF4"
      },
      "source": [
        "## Export as csv"
      ]
    },
    {
      "cell_type": "code",
      "metadata": {
        "id": "f-G1pPumsuF4"
      },
      "source": [
        "merge_ft.to_csv('all_results_to_2021_R23.csv')"
      ],
      "execution_count": null,
      "outputs": []
    },
    {
      "cell_type": "code",
      "metadata": {
        "id": "NKA8ZzJSsuF4"
      },
      "source": [
        ""
      ],
      "execution_count": null,
      "outputs": []
    }
  ]
}